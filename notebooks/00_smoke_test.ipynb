{
 "cells": [
  {
   "cell_type": "code",
   "execution_count": 2,
   "id": "adacfce9",
   "metadata": {},
   "outputs": [
    {
     "name": "stderr",
     "output_type": "stream",
     "text": [
      "/var/folders/48/5m58qpqx65s31d8vcx2418dc0000gn/T/ipykernel_49030/2369443922.py:10: DeprecationWarning: `recreate_collection` method is deprecated and will be removed in the future. Use `collection_exists` to check collection existence and `create_collection` instead.\n",
      "  client.recreate_collection(coll, vectors_config=VectorParams(size=1024, distance=Distance.COSINE))\n"
     ]
    },
    {
     "data": {
      "text/plain": [
       "True"
      ]
     },
     "execution_count": 2,
     "metadata": {},
     "output_type": "execute_result"
    }
   ],
   "source": [
    "from qdrant_client import QdrantClient\n",
    "from qdrant_client.models import VectorParams, Distance\n",
    "import glob, os, json, pathlib\n",
    "import os\n",
    "os.chdir(\"..\")  # move from notebooks/ to project root\n",
    "\n",
    "\n",
    "client = QdrantClient(url=os.getenv(\"QDRANT_URL\",\"http://localhost:6333\"))\n",
    "coll = os.getenv(\"QDRANT_COLLECTION\",\"sec_filings_chunks\")\n",
    "client.recreate_collection(coll, vectors_config=VectorParams(size=1024, distance=Distance.COSINE))\n"
   ]
  },
  {
   "cell_type": "code",
   "execution_count": 1,
   "id": "2a0ab2ef",
   "metadata": {},
   "outputs": [],
   "source": [
    "import os\n",
    "ROOT = \"/Users/ruchirnamjoshi/projects/finance-rag-local\"\n",
    "out_dir = os.path.join(ROOT, \"data/raw\")"
   ]
  },
  {
   "cell_type": "code",
   "execution_count": 2,
   "id": "7739a773",
   "metadata": {},
   "outputs": [
    {
     "data": {
      "text/plain": [
       "['/Users/ruchirnamjoshi/projects/finance-rag-local/data/raw/www.sec.gov_Archives_edgar_data_796343_000079634325000073_adbe-20250530.htm.html',\n",
       " '/Users/ruchirnamjoshi/projects/finance-rag-local/data/raw/www.sec.gov_Archives_edgar_data_1045810_000104581025000116_nvda-20250427.htm.html',\n",
       " '/Users/ruchirnamjoshi/projects/finance-rag-local/data/raw/www.sec.gov_Archives_edgar_data_1318605_000162828025018911_tsla-20250331.htm.html',\n",
       " '/Users/ruchirnamjoshi/projects/finance-rag-local/data/raw/www.sec.gov_Archives_edgar_data_1326801_000162828025036791_meta-20250630.htm.html',\n",
       " '/Users/ruchirnamjoshi/projects/finance-rag-local/data/raw/www.sec.gov_Archives_edgar_data_1090872_000109087225000021_a-20250430.htm.html',\n",
       " '/Users/ruchirnamjoshi/projects/finance-rag-local/data/raw/www.sec.gov_Archives_edgar_data_796343_000079634324000208_adbe-20240830.htm.html',\n",
       " '/Users/ruchirnamjoshi/projects/finance-rag-local/data/raw/www.sec.gov_Archives_edgar_data_1045810_000104581024000316_nvda-20241027.htm.html',\n",
       " '/Users/ruchirnamjoshi/projects/finance-rag-local/data/raw/www.sec.gov_Archives_edgar_data_2488_000000248825000108_amd-20250628.htm.html',\n",
       " '/Users/ruchirnamjoshi/projects/finance-rag-local/data/raw/www.sec.gov_Archives_edgar_data_1652044_000165204425000043_goog-20250331.htm.html',\n",
       " '/Users/ruchirnamjoshi/projects/finance-rag-local/data/raw/www.sec.gov_Archives_edgar_data_1045810_000104581024000264_nvda-20240728.htm.html',\n",
       " '/Users/ruchirnamjoshi/projects/finance-rag-local/data/raw/www.sec.gov_Archives_edgar_data_1318605_000162828025035806_tsla-20250630.htm.html',\n",
       " '/Users/ruchirnamjoshi/projects/finance-rag-local/data/raw/www.sec.gov_Archives_edgar_data_796343_000079634325000059_adbe-20250228.htm.html',\n",
       " '/Users/ruchirnamjoshi/projects/finance-rag-local/data/raw/www.sec.gov_Archives_edgar_data_1326801_000132680125000054_meta-20250331.htm.html',\n",
       " '/Users/ruchirnamjoshi/projects/finance-rag-local/data/raw/www.sec.gov_Archives_edgar_data_1090872_000109087224000033_a-20240731.htm.html',\n",
       " '/Users/ruchirnamjoshi/projects/finance-rag-local/data/raw/www.sec.gov_Archives_edgar_data_320193_000032019325000057_aapl-20250329.htm.html',\n",
       " '/Users/ruchirnamjoshi/projects/finance-rag-local/data/raw/www.sec.gov_Archives_edgar_data_1318605_000162828024043486_tsla-20240930.htm.html',\n",
       " '/Users/ruchirnamjoshi/projects/finance-rag-local/data/raw/www.sec.gov_Archives_edgar_data_1652044_000165204424000118_goog-20240930.htm.html',\n",
       " '/Users/ruchirnamjoshi/projects/finance-rag-local/data/raw/www.sec.gov_Archives_edgar_data_50863_000005086324000149_intc-20240928.htm.html',\n",
       " '/Users/ruchirnamjoshi/projects/finance-rag-local/data/raw/www.sec.gov_Archives_edgar_data_1326801_000132680124000081_meta-20240930.htm.html',\n",
       " '/Users/ruchirnamjoshi/projects/finance-rag-local/data/raw/www.sec.gov_Archives_edgar_data_2488_000000248825000047_amd-20250329.htm.html',\n",
       " '/Users/ruchirnamjoshi/projects/finance-rag-local/data/raw/www.sec.gov_Archives_edgar_data_1090872_000109087224000049_a-20241031.htm.html',\n",
       " '/Users/ruchirnamjoshi/projects/finance-rag-local/data/raw/www.sec.gov_Archives_edgar_data_1326801_000132680125000017_meta-20241231.htm.html',\n",
       " '/Users/ruchirnamjoshi/projects/finance-rag-local/data/raw/www.sec.gov_Archives_edgar_data_1045810_000104581025000023_nvda-20250126.htm.html',\n",
       " '/Users/ruchirnamjoshi/projects/finance-rag-local/data/raw/www.sec.gov_Archives_edgar_data_789019_000095017024118967_msft-20240930.htm.html',\n",
       " '/Users/ruchirnamjoshi/projects/finance-rag-local/data/raw/www.sec.gov_Archives_edgar_data_1018724_000101872425000036_amzn-20250331.htm.html',\n",
       " '/Users/ruchirnamjoshi/projects/finance-rag-local/data/raw/www.sec.gov_Archives_edgar_data_1018724_000101872425000004_amzn-20241231.htm.html',\n",
       " '/Users/ruchirnamjoshi/projects/finance-rag-local/data/raw/www.sec.gov_Archives_edgar_data_1318605_000162828025003063_tsla-20241231.htm.html',\n",
       " '/Users/ruchirnamjoshi/projects/finance-rag-local/data/raw/www.sec.gov_Archives_edgar_data_789019_000095017025061046_msft-20250331.htm.html',\n",
       " '/Users/ruchirnamjoshi/projects/finance-rag-local/data/raw/www.sec.gov_Archives_edgar_data_1018724_000101872425000086_amzn-20250630.htm.html',\n",
       " '/Users/ruchirnamjoshi/projects/finance-rag-local/data/raw/www.sec.gov_Archives_edgar_data_320193_000032019325000008_aapl-20241228.htm.html',\n",
       " '/Users/ruchirnamjoshi/projects/finance-rag-local/data/raw/www.sec.gov_Archives_edgar_data_789019_000095017025010491_msft-20241231.htm.html',\n",
       " '/Users/ruchirnamjoshi/projects/finance-rag-local/data/raw/www.sec.gov_Archives_edgar_data_796343_000079634325000004_adbe-20241129.htm.html',\n",
       " '/Users/ruchirnamjoshi/projects/finance-rag-local/data/raw/www.sec.gov_Archives_edgar_data_50863_000005086325000009_intc-20241228.htm.html',\n",
       " '/Users/ruchirnamjoshi/projects/finance-rag-local/data/raw/www.sec.gov_Archives_edgar_data_320193_000032019325000073_aapl-20250628.htm.html',\n",
       " '/Users/ruchirnamjoshi/projects/finance-rag-local/data/raw/www.sec.gov_Archives_edgar_data_1018724_000101872424000161_amzn-20240930.htm.html',\n",
       " '/Users/ruchirnamjoshi/projects/finance-rag-local/data/raw/www.sec.gov_Archives_edgar_data_2488_000000248825000012_amd-20241228.htm.html',\n",
       " '/Users/ruchirnamjoshi/projects/finance-rag-local/data/raw/www.sec.gov_Archives_edgar_data_1652044_000165204425000062_goog-20250630.htm.html',\n",
       " '/Users/ruchirnamjoshi/projects/finance-rag-local/data/raw/www.sec.gov_Archives_edgar_data_50863_000005086325000074_intc-20250329.htm.html',\n",
       " '/Users/ruchirnamjoshi/projects/finance-rag-local/data/raw/www.sec.gov_Archives_edgar_data_2488_000000248824000163_amd-20240928.htm.html',\n",
       " '/Users/ruchirnamjoshi/projects/finance-rag-local/data/raw/www.sec.gov_Archives_edgar_data_50863_000005086325000109_intc-20250628.htm.html',\n",
       " '/Users/ruchirnamjoshi/projects/finance-rag-local/data/raw/www.sec.gov_Archives_edgar_data_320193_000032019324000123_aapl-20240928.htm.html',\n",
       " '/Users/ruchirnamjoshi/projects/finance-rag-local/data/raw/www.sec.gov_Archives_edgar_data_1090872_000109087225000008_a-20250131.htm.html',\n",
       " '/Users/ruchirnamjoshi/projects/finance-rag-local/data/raw/www.sec.gov_Archives_edgar_data_789019_000095017025100235_msft-20250630.htm.html',\n",
       " '/Users/ruchirnamjoshi/projects/finance-rag-local/data/raw/www.sec.gov_Archives_edgar_data_1652044_000165204425000014_goog-20241231.htm.html']"
      ]
     },
     "execution_count": 2,
     "metadata": {},
     "output_type": "execute_result"
    }
   ],
   "source": [
    "ROOT = \"/Users/ruchirnamjoshi/projects/finance-rag-local\"\n",
    "out_dir = os.path.join(ROOT, \"data/raw\")\n",
    "\n",
    "glob.glob(os.path.join(out_dir, \"*.html\"))\n"
   ]
  },
  {
   "cell_type": "code",
   "execution_count": 3,
   "id": "26b8643c",
   "metadata": {},
   "outputs": [
    {
     "name": "stdout",
     "output_type": "stream",
     "text": [
      "Saved (Submissions) CIK 320193 10-Q 2025-08-01 -> /Users/ruchirnamjoshi/projects/finance-rag-local/data/raw/www.sec.gov_Archives_edgar_data_320193_000032019325000073_aapl-20250628.htm.html\n",
      "Saved (Submissions) CIK 320193 10-Q 2025-05-02 -> /Users/ruchirnamjoshi/projects/finance-rag-local/data/raw/www.sec.gov_Archives_edgar_data_320193_000032019325000057_aapl-20250329.htm.html\n",
      "Saved (Submissions) CIK 320193 10-Q 2025-01-31 -> /Users/ruchirnamjoshi/projects/finance-rag-local/data/raw/www.sec.gov_Archives_edgar_data_320193_000032019325000008_aapl-20241228.htm.html\n",
      "Saved (Submissions) CIK 320193 10-K 2024-11-01 -> /Users/ruchirnamjoshi/projects/finance-rag-local/data/raw/www.sec.gov_Archives_edgar_data_320193_000032019324000123_aapl-20240928.htm.html\n",
      "Saved (Submissions) CIK 789019 10-K 2025-07-30 -> /Users/ruchirnamjoshi/projects/finance-rag-local/data/raw/www.sec.gov_Archives_edgar_data_789019_000095017025100235_msft-20250630.htm.html\n",
      "Saved (Submissions) CIK 789019 10-Q 2025-04-30 -> /Users/ruchirnamjoshi/projects/finance-rag-local/data/raw/www.sec.gov_Archives_edgar_data_789019_000095017025061046_msft-20250331.htm.html\n",
      "Saved (Submissions) CIK 789019 10-Q 2025-01-29 -> /Users/ruchirnamjoshi/projects/finance-rag-local/data/raw/www.sec.gov_Archives_edgar_data_789019_000095017025010491_msft-20241231.htm.html\n",
      "Saved (Submissions) CIK 789019 10-Q 2024-10-30 -> /Users/ruchirnamjoshi/projects/finance-rag-local/data/raw/www.sec.gov_Archives_edgar_data_789019_000095017024118967_msft-20240930.htm.html\n",
      "Saved (Submissions) CIK 1018724 10-Q 2025-08-01 -> /Users/ruchirnamjoshi/projects/finance-rag-local/data/raw/www.sec.gov_Archives_edgar_data_1018724_000101872425000086_amzn-20250630.htm.html\n",
      "Saved (Submissions) CIK 1018724 10-Q 2025-05-02 -> /Users/ruchirnamjoshi/projects/finance-rag-local/data/raw/www.sec.gov_Archives_edgar_data_1018724_000101872425000036_amzn-20250331.htm.html\n",
      "Saved (Submissions) CIK 1018724 10-K 2025-02-07 -> /Users/ruchirnamjoshi/projects/finance-rag-local/data/raw/www.sec.gov_Archives_edgar_data_1018724_000101872425000004_amzn-20241231.htm.html\n",
      "Saved (Submissions) CIK 1018724 10-Q 2024-11-01 -> /Users/ruchirnamjoshi/projects/finance-rag-local/data/raw/www.sec.gov_Archives_edgar_data_1018724_000101872424000161_amzn-20240930.htm.html\n",
      "Saved (Submissions) CIK 1652044 10-Q 2025-07-24 -> /Users/ruchirnamjoshi/projects/finance-rag-local/data/raw/www.sec.gov_Archives_edgar_data_1652044_000165204425000062_goog-20250630.htm.html\n",
      "Saved (Submissions) CIK 1652044 10-Q 2025-04-25 -> /Users/ruchirnamjoshi/projects/finance-rag-local/data/raw/www.sec.gov_Archives_edgar_data_1652044_000165204425000043_goog-20250331.htm.html\n",
      "Saved (Submissions) CIK 1652044 10-K 2025-02-05 -> /Users/ruchirnamjoshi/projects/finance-rag-local/data/raw/www.sec.gov_Archives_edgar_data_1652044_000165204425000014_goog-20241231.htm.html\n",
      "Saved (Submissions) CIK 1652044 10-Q 2024-10-30 -> /Users/ruchirnamjoshi/projects/finance-rag-local/data/raw/www.sec.gov_Archives_edgar_data_1652044_000165204424000118_goog-20240930.htm.html\n",
      "Saved (Submissions) CIK 1318605 10-Q 2025-07-24 -> /Users/ruchirnamjoshi/projects/finance-rag-local/data/raw/www.sec.gov_Archives_edgar_data_1318605_000162828025035806_tsla-20250630.htm.html\n",
      "Saved (Submissions) CIK 1318605 10-Q 2025-04-23 -> /Users/ruchirnamjoshi/projects/finance-rag-local/data/raw/www.sec.gov_Archives_edgar_data_1318605_000162828025018911_tsla-20250331.htm.html\n",
      "Saved (Submissions) CIK 1318605 10-K 2025-01-30 -> /Users/ruchirnamjoshi/projects/finance-rag-local/data/raw/www.sec.gov_Archives_edgar_data_1318605_000162828025003063_tsla-20241231.htm.html\n",
      "Saved (Submissions) CIK 1318605 10-Q 2024-10-24 -> /Users/ruchirnamjoshi/projects/finance-rag-local/data/raw/www.sec.gov_Archives_edgar_data_1318605_000162828024043486_tsla-20240930.htm.html\n",
      "Saved (Submissions) CIK 1045810 10-Q 2025-05-28 -> /Users/ruchirnamjoshi/projects/finance-rag-local/data/raw/www.sec.gov_Archives_edgar_data_1045810_000104581025000116_nvda-20250427.htm.html\n",
      "Saved (Submissions) CIK 1045810 10-K 2025-02-26 -> /Users/ruchirnamjoshi/projects/finance-rag-local/data/raw/www.sec.gov_Archives_edgar_data_1045810_000104581025000023_nvda-20250126.htm.html\n",
      "Saved (Submissions) CIK 1045810 10-Q 2024-11-20 -> /Users/ruchirnamjoshi/projects/finance-rag-local/data/raw/www.sec.gov_Archives_edgar_data_1045810_000104581024000316_nvda-20241027.htm.html\n",
      "Saved (Submissions) CIK 1045810 10-Q 2024-08-28 -> /Users/ruchirnamjoshi/projects/finance-rag-local/data/raw/www.sec.gov_Archives_edgar_data_1045810_000104581024000264_nvda-20240728.htm.html\n",
      "Saved (Submissions) CIK 1090872 10-Q 2025-06-02 -> /Users/ruchirnamjoshi/projects/finance-rag-local/data/raw/www.sec.gov_Archives_edgar_data_1090872_000109087225000021_a-20250430.htm.html\n",
      "Saved (Submissions) CIK 1090872 10-Q 2025-03-03 -> /Users/ruchirnamjoshi/projects/finance-rag-local/data/raw/www.sec.gov_Archives_edgar_data_1090872_000109087225000008_a-20250131.htm.html\n",
      "Saved (Submissions) CIK 1090872 10-K 2024-12-20 -> /Users/ruchirnamjoshi/projects/finance-rag-local/data/raw/www.sec.gov_Archives_edgar_data_1090872_000109087224000049_a-20241031.htm.html\n",
      "Saved (Submissions) CIK 1090872 10-Q 2024-08-30 -> /Users/ruchirnamjoshi/projects/finance-rag-local/data/raw/www.sec.gov_Archives_edgar_data_1090872_000109087224000033_a-20240731.htm.html\n",
      "Saved (Submissions) CIK 1326801 10-Q 2025-07-31 -> /Users/ruchirnamjoshi/projects/finance-rag-local/data/raw/www.sec.gov_Archives_edgar_data_1326801_000162828025036791_meta-20250630.htm.html\n",
      "Saved (Submissions) CIK 1326801 10-Q 2025-05-01 -> /Users/ruchirnamjoshi/projects/finance-rag-local/data/raw/www.sec.gov_Archives_edgar_data_1326801_000132680125000054_meta-20250331.htm.html\n",
      "Saved (Submissions) CIK 1326801 10-K 2025-01-30 -> /Users/ruchirnamjoshi/projects/finance-rag-local/data/raw/www.sec.gov_Archives_edgar_data_1326801_000132680125000017_meta-20241231.htm.html\n",
      "Saved (Submissions) CIK 1326801 10-Q 2024-10-31 -> /Users/ruchirnamjoshi/projects/finance-rag-local/data/raw/www.sec.gov_Archives_edgar_data_1326801_000132680124000081_meta-20240930.htm.html\n",
      "Saved (Submissions) CIK 796343 10-Q 2025-06-25 -> /Users/ruchirnamjoshi/projects/finance-rag-local/data/raw/www.sec.gov_Archives_edgar_data_796343_000079634325000073_adbe-20250530.htm.html\n",
      "Saved (Submissions) CIK 796343 10-Q 2025-03-26 -> /Users/ruchirnamjoshi/projects/finance-rag-local/data/raw/www.sec.gov_Archives_edgar_data_796343_000079634325000059_adbe-20250228.htm.html\n",
      "Saved (Submissions) CIK 796343 10-K 2025-01-13 -> /Users/ruchirnamjoshi/projects/finance-rag-local/data/raw/www.sec.gov_Archives_edgar_data_796343_000079634325000004_adbe-20241129.htm.html\n",
      "Saved (Submissions) CIK 796343 10-Q 2024-09-25 -> /Users/ruchirnamjoshi/projects/finance-rag-local/data/raw/www.sec.gov_Archives_edgar_data_796343_000079634324000208_adbe-20240830.htm.html\n",
      "Saved (Submissions) CIK 50863 10-Q 2025-07-24 -> /Users/ruchirnamjoshi/projects/finance-rag-local/data/raw/www.sec.gov_Archives_edgar_data_50863_000005086325000109_intc-20250628.htm.html\n",
      "Saved (Submissions) CIK 50863 10-Q 2025-04-25 -> /Users/ruchirnamjoshi/projects/finance-rag-local/data/raw/www.sec.gov_Archives_edgar_data_50863_000005086325000074_intc-20250329.htm.html\n",
      "Saved (Submissions) CIK 50863 10-K 2025-01-31 -> /Users/ruchirnamjoshi/projects/finance-rag-local/data/raw/www.sec.gov_Archives_edgar_data_50863_000005086325000009_intc-20241228.htm.html\n",
      "Saved (Submissions) CIK 50863 10-Q 2024-11-01 -> /Users/ruchirnamjoshi/projects/finance-rag-local/data/raw/www.sec.gov_Archives_edgar_data_50863_000005086324000149_intc-20240928.htm.html\n",
      "Saved (Submissions) CIK 2488 10-Q 2025-08-06 -> /Users/ruchirnamjoshi/projects/finance-rag-local/data/raw/www.sec.gov_Archives_edgar_data_2488_000000248825000108_amd-20250628.htm.html\n",
      "Saved (Submissions) CIK 2488 10-Q 2025-05-07 -> /Users/ruchirnamjoshi/projects/finance-rag-local/data/raw/www.sec.gov_Archives_edgar_data_2488_000000248825000047_amd-20250329.htm.html\n",
      "Saved (Submissions) CIK 2488 10-K 2025-02-05 -> /Users/ruchirnamjoshi/projects/finance-rag-local/data/raw/www.sec.gov_Archives_edgar_data_2488_000000248825000012_amd-20241228.htm.html\n",
      "Saved (Submissions) CIK 2488 10-Q 2024-10-30 -> /Users/ruchirnamjoshi/projects/finance-rag-local/data/raw/www.sec.gov_Archives_edgar_data_2488_000000248824000163_amd-20240928.htm.html\n",
      "Total saved via submissions: 44\n",
      "Saved via submissions: 44\n"
     ]
    }
   ],
   "source": [
    "# Big, frequently-filed names (CIKs)\n",
    "CIKS = [\n",
    "    320193,   # Apple\n",
    "    789019,   # Microsoft\n",
    "    1018724,  # Amazon\n",
    "    1652044,  # Alphabet\n",
    "    1318605,  # Meta\n",
    "    1045810,  # NVIDIA\n",
    "    1090872,  # Tesla\n",
    "    1326801,  # Netflix\n",
    "    1329099,  # Salesforce\n",
    "    796343,   # Adobe\n",
    "    50863,    # Intel\n",
    "    2488,     # AMD\n",
    "]\n",
    "\n",
    "\n",
    "from ingest.edgar_pull import run_submissions_seed\n",
    "saved = run_submissions_seed(out_dir=out_dir, ciks=CIKS, per_cik=4)  # increase per_cik if you want\n",
    "print(\"Saved via submissions:\", saved)\n"
   ]
  },
  {
   "cell_type": "code",
   "execution_count": 4,
   "id": "6eab8dfd",
   "metadata": {},
   "outputs": [
    {
     "name": "stdout",
     "output_type": "stream",
     "text": [
      "Primary 10-Q HTMLs: 33\n",
      "Prepared chunks: 7260\n"
     ]
    }
   ],
   "source": [
    "import glob, os, json, pathlib\n",
    "from ingest.parse_html import html_to_sections\n",
    "from rag.chunking import split_sections\n",
    "from rag.vectorstore import upsert\n",
    "from qdrant_client import QdrantClient\n",
    "\n",
    "# Only primary 10-Qs with metadata\n",
    "html_files = []\n",
    "for f in glob.glob(os.path.join(out_dir, \"*.html\")):\n",
    "    meta_path = pathlib.Path(f).with_suffix(\".meta.json\")\n",
    "    if meta_path.exists():\n",
    "        meta = json.loads(open(meta_path, encoding=\"utf-8\").read())\n",
    "        if meta.get(\"form\") == \"10-Q\":\n",
    "            html_files.append((f, meta))\n",
    "\n",
    "print(\"Primary 10-Q HTMLs:\", len(html_files))\n",
    "\n",
    "chunks = []\n",
    "for f, meta in html_files:\n",
    "    html = open(f, encoding=\"utf-8\", errors=\"ignore\").read()\n",
    "    secs = html_to_sections(html)\n",
    "    chs = split_sections(secs, chunk_size=1200, chunk_overlap=200)\n",
    "    for c in chs:\n",
    "        c[\"source\"] = os.path.basename(f)\n",
    "        c.update(meta)  # adds cik/form/date\n",
    "    chunks.extend(chs)\n",
    "\n",
    "print(\"Prepared chunks:\", len(chunks))\n",
    "\n"
   ]
  },
  {
   "cell_type": "code",
   "execution_count": 5,
   "id": "e0485a6b",
   "metadata": {},
   "outputs": [
    {
     "name": "stdout",
     "output_type": "stream",
     "text": [
      "Upserted 128/7260\n",
      "Upserted 256/7260\n",
      "Upserted 384/7260\n",
      "Upserted 512/7260\n",
      "Upserted 640/7260\n",
      "Upserted 768/7260\n",
      "Upserted 896/7260\n",
      "Upserted 1024/7260\n",
      "Upserted 1152/7260\n",
      "Upserted 1280/7260\n",
      "Upserted 1408/7260\n",
      "Upserted 1536/7260\n",
      "Upserted 1664/7260\n",
      "Upserted 1792/7260\n",
      "Upserted 1920/7260\n",
      "Upserted 2048/7260\n",
      "Upserted 2176/7260\n",
      "Upserted 2304/7260\n",
      "Upserted 2432/7260\n",
      "Upserted 2560/7260\n",
      "Upserted 2688/7260\n",
      "Upserted 2816/7260\n",
      "Upserted 2944/7260\n",
      "Upserted 3072/7260\n",
      "Upserted 3200/7260\n",
      "Upserted 3328/7260\n",
      "Upserted 3456/7260\n",
      "Upserted 3584/7260\n",
      "Upserted 3712/7260\n",
      "Upserted 3840/7260\n",
      "Upserted 3968/7260\n",
      "Upserted 4096/7260\n",
      "Upserted 4224/7260\n",
      "Upserted 4352/7260\n",
      "Upserted 4480/7260\n",
      "Upserted 4608/7260\n",
      "Upserted 4736/7260\n",
      "Upserted 4864/7260\n",
      "Upserted 4992/7260\n",
      "Upserted 5120/7260\n",
      "Upserted 5248/7260\n",
      "Upserted 5376/7260\n",
      "Upserted 5504/7260\n",
      "Upserted 5632/7260\n",
      "Upserted 5760/7260\n",
      "Upserted 5888/7260\n",
      "Upserted 6016/7260\n",
      "Upserted 6144/7260\n",
      "Upserted 6272/7260\n",
      "Upserted 6400/7260\n",
      "Upserted 6528/7260\n",
      "Upserted 6656/7260\n",
      "Upserted 6784/7260\n",
      "Upserted 6912/7260\n",
      "Upserted 7040/7260\n",
      "Upserted 7168/7260\n",
      "Upserted 7260/7260\n"
     ]
    }
   ],
   "source": [
    "import importlib\n",
    "import rag.vectorstore\n",
    "importlib.reload(rag.vectorstore)\n",
    "\n",
    "from rag.vectorstore import upsert\n",
    "upsert(chunks, batch_size=128)\n",
    "\n"
   ]
  },
  {
   "cell_type": "code",
   "execution_count": null,
   "id": "af71cd83",
   "metadata": {},
   "outputs": [],
   "source": []
  },
  {
   "cell_type": "code",
   "execution_count": 1,
   "id": "56b9bc8e",
   "metadata": {},
   "outputs": [
    {
     "name": "stderr",
     "output_type": "stream",
     "text": [
      "/Users/ruchirnamjoshi/projects/finance-rag-local/.venv/lib/python3.11/site-packages/tqdm/auto.py:21: TqdmWarning: IProgress not found. Please update jupyter and ipywidgets. See https://ipywidgets.readthedocs.io/en/stable/user_install.html\n",
      "  from .autonotebook import tqdm as notebook_tqdm\n"
     ]
    },
    {
     "name": "stdout",
     "output_type": "stream",
     "text": [
      "Unfortunately, there is no mention of \"revenue drivers\" being mentioned by management in Item 2 (MD&A) in any of the provided sections.\n",
      "\n",
      "However, section **Seasonality** does mention that fourth quarter revenue is driven by a higher volume of multi-year contracts executed during the period. But this is not specifically mentioned as a \"revenue driver\" in Item 2 (MD&A).\n",
      "\n",
      "Therefore, I do not have an answer to provide based on the provided context.\n"
     ]
    }
   ],
   "source": [
    "from rag.pipeline import answer\n",
    "ans, ctx = answer(\"In Item 2 (MD&A), what revenue drivers did management mention this quarter?\")\n",
    "print(ans[:1200])\n"
   ]
  },
  {
   "cell_type": "code",
   "execution_count": 2,
   "id": "e2e8d318",
   "metadata": {},
   "outputs": [
    {
     "name": "stdout",
     "output_type": "stream",
     "text": [
      "Unfortunately, there is no specific section provided that answers your question about what revenue drivers management mentioned in Apple's latest 10-Q (Item 2, MD&A) regarding their latest financials.\n",
      "\n",
      "However, I can provide an answer based on the context. \n",
      "\n",
      "The correct answer would be Section: \"Operating Expenses\" or more specifically \"Research and Development The growth in research and development expense during the second quarter and first six months of 2025 compared to the same periods in 2024 was driven primarily by increases in headcount-related expenses and infrastructure-related costs.\"\n"
     ]
    }
   ],
   "source": [
    "from rag.pipeline import answer\n",
    "\n",
    "# Try Apple (AAPL: CIK 320193)\n",
    "ans, ctx = answer(\"For Apple’s latest 10-Q (Item 2, MD&A), what revenue drivers did management mention?\")\n",
    "print(ans[:1200])\n"
   ]
  },
  {
   "cell_type": "code",
   "execution_count": 1,
   "id": "30dfe0b0",
   "metadata": {},
   "outputs": [
    {
     "name": "stdout",
     "output_type": "stream",
     "text": [
      "Apple 10-Q chunks: 248\n",
      "Sample Apple payload keys: ['source', 'form', 'title', 'cik', 'section', 'text', 'date']\n"
     ]
    }
   ],
   "source": [
    "from qdrant_client import QdrantClient\n",
    "from qdrant_client.models import Filter, FieldCondition, MatchValue\n",
    "\n",
    "client = QdrantClient(url=\"http://localhost:6333\")\n",
    "coll = \"sec_filings_chunks\"\n",
    "\n",
    "# Count Apple 10-Q chunks\n",
    "flt = Filter(must=[\n",
    "    FieldCondition(key=\"cik\", match=MatchValue(value=320193)),\n",
    "    FieldCondition(key=\"form\", match=MatchValue(value=\"10-Q\")),\n",
    "])\n",
    "print(\"Apple 10-Q chunks:\", client.count(coll, flt).count)\n",
    "\n",
    "# Peek one Apple payload\n",
    "scroll = client.scroll(coll, limit=1, scroll_filter=flt)\n",
    "if scroll[0]:\n",
    "    print(\"Sample Apple payload keys:\", list(scroll[0][0].payload.keys()))\n"
   ]
  },
  {
   "cell_type": "code",
   "execution_count": 4,
   "id": "bd2a30fc",
   "metadata": {},
   "outputs": [
    {
     "name": "stdout",
     "output_type": "stream",
     "text": [
      "Section: Operating Expenses\n",
      "Filing Date: December 28, 2024\n",
      "\n",
      "Management mentioned that the growth in research and development expense during the first quarter of 2025 compared to the same quarter in 2024 was driven primarily by increases in \"headcount-related expenses and infrastructure-related costs.\"\n",
      "\n",
      " Section: Products and Services Performance\n",
      "Filing Date: December 28, 2024\n",
      "\n",
      "Services net sales increased during the first quarter of 2025 compared to the same quarter in 2024 due primarily to higher net sales from \"advertising, the App Store ® and cloud services.\"\n"
     ]
    }
   ],
   "source": [
    "from rag.pipeline import answer\n",
    "ans, _ = answer(\"What revenue drivers did management mention in Apple’s Q1 2025 MD&A?\")\n",
    "\n",
    "print(ans)\n"
   ]
  },
  {
   "cell_type": "code",
   "execution_count": 1,
   "id": "c8a6b6b2",
   "metadata": {},
   "outputs": [
    {
     "name": "stderr",
     "output_type": "stream",
     "text": [
      "/Users/ruchirnamjoshi/projects/finance-rag-local/.venv/lib/python3.11/site-packages/tqdm/auto.py:21: TqdmWarning: IProgress not found. Please update jupyter and ipywidgets. See https://ipywidgets.readthedocs.io/en/stable/user_install.html\n",
      "  from .autonotebook import tqdm as notebook_tqdm\n",
      "/Users/ruchirnamjoshi/projects/finance-rag-local/src/rag/pipeline.py:17: LangChainDeprecationWarning: `connection_string` was deprecated in LangChain 0.2.2 and will be removed in 1.0. Use connection instead.\n",
      "  history = get_history(session_id)\n"
     ]
    },
    {
     "ename": "OperationalError",
     "evalue": "(sqlite3.OperationalError) unable to open database file\n(Background on this error at: https://sqlalche.me/e/20/e3q8)",
     "output_type": "error",
     "traceback": [
      "\u001b[31m---------------------------------------------------------------------------\u001b[39m",
      "\u001b[31mOperationalError\u001b[39m                          Traceback (most recent call last)",
      "\u001b[36mFile \u001b[39m\u001b[32m~/projects/finance-rag-local/.venv/lib/python3.11/site-packages/sqlalchemy/engine/base.py:143\u001b[39m, in \u001b[36mConnection.__init__\u001b[39m\u001b[34m(self, engine, connection, _has_events, _allow_revalidate, _allow_autobegin)\u001b[39m\n\u001b[32m    142\u001b[39m \u001b[38;5;28;01mtry\u001b[39;00m:\n\u001b[32m--> \u001b[39m\u001b[32m143\u001b[39m     \u001b[38;5;28mself\u001b[39m._dbapi_connection = \u001b[43mengine\u001b[49m\u001b[43m.\u001b[49m\u001b[43mraw_connection\u001b[49m\u001b[43m(\u001b[49m\u001b[43m)\u001b[49m\n\u001b[32m    144\u001b[39m \u001b[38;5;28;01mexcept\u001b[39;00m dialect.loaded_dbapi.Error \u001b[38;5;28;01mas\u001b[39;00m err:\n",
      "\u001b[36mFile \u001b[39m\u001b[32m~/projects/finance-rag-local/.venv/lib/python3.11/site-packages/sqlalchemy/engine/base.py:3295\u001b[39m, in \u001b[36mEngine.raw_connection\u001b[39m\u001b[34m(self)\u001b[39m\n\u001b[32m   3274\u001b[39m \u001b[38;5;250m\u001b[39m\u001b[33;03m\"\"\"Return a \"raw\" DBAPI connection from the connection pool.\u001b[39;00m\n\u001b[32m   3275\u001b[39m \n\u001b[32m   3276\u001b[39m \u001b[33;03mThe returned object is a proxied version of the DBAPI\u001b[39;00m\n\u001b[32m   (...)\u001b[39m\u001b[32m   3293\u001b[39m \n\u001b[32m   3294\u001b[39m \u001b[33;03m\"\"\"\u001b[39;00m\n\u001b[32m-> \u001b[39m\u001b[32m3295\u001b[39m \u001b[38;5;28;01mreturn\u001b[39;00m \u001b[38;5;28;43mself\u001b[39;49m\u001b[43m.\u001b[49m\u001b[43mpool\u001b[49m\u001b[43m.\u001b[49m\u001b[43mconnect\u001b[49m\u001b[43m(\u001b[49m\u001b[43m)\u001b[49m\n",
      "\u001b[36mFile \u001b[39m\u001b[32m~/projects/finance-rag-local/.venv/lib/python3.11/site-packages/sqlalchemy/pool/base.py:447\u001b[39m, in \u001b[36mPool.connect\u001b[39m\u001b[34m(self)\u001b[39m\n\u001b[32m    440\u001b[39m \u001b[38;5;250m\u001b[39m\u001b[33;03m\"\"\"Return a DBAPI connection from the pool.\u001b[39;00m\n\u001b[32m    441\u001b[39m \n\u001b[32m    442\u001b[39m \u001b[33;03mThe connection is instrumented such that when its\u001b[39;00m\n\u001b[32m   (...)\u001b[39m\u001b[32m    445\u001b[39m \n\u001b[32m    446\u001b[39m \u001b[33;03m\"\"\"\u001b[39;00m\n\u001b[32m--> \u001b[39m\u001b[32m447\u001b[39m \u001b[38;5;28;01mreturn\u001b[39;00m \u001b[43m_ConnectionFairy\u001b[49m\u001b[43m.\u001b[49m\u001b[43m_checkout\u001b[49m\u001b[43m(\u001b[49m\u001b[38;5;28;43mself\u001b[39;49m\u001b[43m)\u001b[49m\n",
      "\u001b[36mFile \u001b[39m\u001b[32m~/projects/finance-rag-local/.venv/lib/python3.11/site-packages/sqlalchemy/pool/base.py:1264\u001b[39m, in \u001b[36m_ConnectionFairy._checkout\u001b[39m\u001b[34m(cls, pool, threadconns, fairy)\u001b[39m\n\u001b[32m   1263\u001b[39m \u001b[38;5;28;01mif\u001b[39;00m \u001b[38;5;129;01mnot\u001b[39;00m fairy:\n\u001b[32m-> \u001b[39m\u001b[32m1264\u001b[39m     fairy = \u001b[43m_ConnectionRecord\u001b[49m\u001b[43m.\u001b[49m\u001b[43mcheckout\u001b[49m\u001b[43m(\u001b[49m\u001b[43mpool\u001b[49m\u001b[43m)\u001b[49m\n\u001b[32m   1266\u001b[39m     \u001b[38;5;28;01mif\u001b[39;00m threadconns \u001b[38;5;129;01mis\u001b[39;00m \u001b[38;5;129;01mnot\u001b[39;00m \u001b[38;5;28;01mNone\u001b[39;00m:\n",
      "\u001b[36mFile \u001b[39m\u001b[32m~/projects/finance-rag-local/.venv/lib/python3.11/site-packages/sqlalchemy/pool/base.py:711\u001b[39m, in \u001b[36m_ConnectionRecord.checkout\u001b[39m\u001b[34m(cls, pool)\u001b[39m\n\u001b[32m    710\u001b[39m \u001b[38;5;28;01melse\u001b[39;00m:\n\u001b[32m--> \u001b[39m\u001b[32m711\u001b[39m     rec = \u001b[43mpool\u001b[49m\u001b[43m.\u001b[49m\u001b[43m_do_get\u001b[49m\u001b[43m(\u001b[49m\u001b[43m)\u001b[49m\n\u001b[32m    713\u001b[39m \u001b[38;5;28;01mtry\u001b[39;00m:\n",
      "\u001b[36mFile \u001b[39m\u001b[32m~/projects/finance-rag-local/.venv/lib/python3.11/site-packages/sqlalchemy/pool/impl.py:177\u001b[39m, in \u001b[36mQueuePool._do_get\u001b[39m\u001b[34m(self)\u001b[39m\n\u001b[32m    176\u001b[39m \u001b[38;5;28;01mexcept\u001b[39;00m:\n\u001b[32m--> \u001b[39m\u001b[32m177\u001b[39m \u001b[43m    \u001b[49m\u001b[38;5;28;43;01mwith\u001b[39;49;00m\u001b[43m \u001b[49m\u001b[43mutil\u001b[49m\u001b[43m.\u001b[49m\u001b[43msafe_reraise\u001b[49m\u001b[43m(\u001b[49m\u001b[43m)\u001b[49m\u001b[43m:\u001b[49m\n\u001b[32m    178\u001b[39m \u001b[43m        \u001b[49m\u001b[38;5;28;43mself\u001b[39;49m\u001b[43m.\u001b[49m\u001b[43m_dec_overflow\u001b[49m\u001b[43m(\u001b[49m\u001b[43m)\u001b[49m\n",
      "\u001b[36mFile \u001b[39m\u001b[32m~/projects/finance-rag-local/.venv/lib/python3.11/site-packages/sqlalchemy/util/langhelpers.py:224\u001b[39m, in \u001b[36msafe_reraise.__exit__\u001b[39m\u001b[34m(self, type_, value, traceback)\u001b[39m\n\u001b[32m    223\u001b[39m     \u001b[38;5;28mself\u001b[39m._exc_info = \u001b[38;5;28;01mNone\u001b[39;00m  \u001b[38;5;66;03m# remove potential circular references\u001b[39;00m\n\u001b[32m--> \u001b[39m\u001b[32m224\u001b[39m     \u001b[38;5;28;01mraise\u001b[39;00m exc_value.with_traceback(exc_tb)\n\u001b[32m    225\u001b[39m \u001b[38;5;28;01melse\u001b[39;00m:\n",
      "\u001b[36mFile \u001b[39m\u001b[32m~/projects/finance-rag-local/.venv/lib/python3.11/site-packages/sqlalchemy/pool/impl.py:175\u001b[39m, in \u001b[36mQueuePool._do_get\u001b[39m\u001b[34m(self)\u001b[39m\n\u001b[32m    174\u001b[39m \u001b[38;5;28;01mtry\u001b[39;00m:\n\u001b[32m--> \u001b[39m\u001b[32m175\u001b[39m     \u001b[38;5;28;01mreturn\u001b[39;00m \u001b[38;5;28;43mself\u001b[39;49m\u001b[43m.\u001b[49m\u001b[43m_create_connection\u001b[49m\u001b[43m(\u001b[49m\u001b[43m)\u001b[49m\n\u001b[32m    176\u001b[39m \u001b[38;5;28;01mexcept\u001b[39;00m:\n",
      "\u001b[36mFile \u001b[39m\u001b[32m~/projects/finance-rag-local/.venv/lib/python3.11/site-packages/sqlalchemy/pool/base.py:388\u001b[39m, in \u001b[36mPool._create_connection\u001b[39m\u001b[34m(self)\u001b[39m\n\u001b[32m    386\u001b[39m \u001b[38;5;250m\u001b[39m\u001b[33;03m\"\"\"Called by subclasses to create a new ConnectionRecord.\"\"\"\u001b[39;00m\n\u001b[32m--> \u001b[39m\u001b[32m388\u001b[39m \u001b[38;5;28;01mreturn\u001b[39;00m \u001b[43m_ConnectionRecord\u001b[49m\u001b[43m(\u001b[49m\u001b[38;5;28;43mself\u001b[39;49m\u001b[43m)\u001b[49m\n",
      "\u001b[36mFile \u001b[39m\u001b[32m~/projects/finance-rag-local/.venv/lib/python3.11/site-packages/sqlalchemy/pool/base.py:673\u001b[39m, in \u001b[36m_ConnectionRecord.__init__\u001b[39m\u001b[34m(self, pool, connect)\u001b[39m\n\u001b[32m    672\u001b[39m \u001b[38;5;28;01mif\u001b[39;00m connect:\n\u001b[32m--> \u001b[39m\u001b[32m673\u001b[39m     \u001b[38;5;28;43mself\u001b[39;49m\u001b[43m.\u001b[49m\u001b[43m__connect\u001b[49m\u001b[43m(\u001b[49m\u001b[43m)\u001b[49m\n\u001b[32m    674\u001b[39m \u001b[38;5;28mself\u001b[39m.finalize_callback = deque()\n",
      "\u001b[36mFile \u001b[39m\u001b[32m~/projects/finance-rag-local/.venv/lib/python3.11/site-packages/sqlalchemy/pool/base.py:899\u001b[39m, in \u001b[36m_ConnectionRecord.__connect\u001b[39m\u001b[34m(self)\u001b[39m\n\u001b[32m    898\u001b[39m \u001b[38;5;28;01mexcept\u001b[39;00m \u001b[38;5;167;01mBaseException\u001b[39;00m \u001b[38;5;28;01mas\u001b[39;00m e:\n\u001b[32m--> \u001b[39m\u001b[32m899\u001b[39m \u001b[43m    \u001b[49m\u001b[38;5;28;43;01mwith\u001b[39;49;00m\u001b[43m \u001b[49m\u001b[43mutil\u001b[49m\u001b[43m.\u001b[49m\u001b[43msafe_reraise\u001b[49m\u001b[43m(\u001b[49m\u001b[43m)\u001b[49m\u001b[43m:\u001b[49m\n\u001b[32m    900\u001b[39m \u001b[43m        \u001b[49m\u001b[43mpool\u001b[49m\u001b[43m.\u001b[49m\u001b[43mlogger\u001b[49m\u001b[43m.\u001b[49m\u001b[43mdebug\u001b[49m\u001b[43m(\u001b[49m\u001b[33;43m\"\u001b[39;49m\u001b[33;43mError on connect(): \u001b[39;49m\u001b[38;5;132;43;01m%s\u001b[39;49;00m\u001b[33;43m\"\u001b[39;49m\u001b[43m,\u001b[49m\u001b[43m \u001b[49m\u001b[43me\u001b[49m\u001b[43m)\u001b[49m\n",
      "\u001b[36mFile \u001b[39m\u001b[32m~/projects/finance-rag-local/.venv/lib/python3.11/site-packages/sqlalchemy/util/langhelpers.py:224\u001b[39m, in \u001b[36msafe_reraise.__exit__\u001b[39m\u001b[34m(self, type_, value, traceback)\u001b[39m\n\u001b[32m    223\u001b[39m     \u001b[38;5;28mself\u001b[39m._exc_info = \u001b[38;5;28;01mNone\u001b[39;00m  \u001b[38;5;66;03m# remove potential circular references\u001b[39;00m\n\u001b[32m--> \u001b[39m\u001b[32m224\u001b[39m     \u001b[38;5;28;01mraise\u001b[39;00m exc_value.with_traceback(exc_tb)\n\u001b[32m    225\u001b[39m \u001b[38;5;28;01melse\u001b[39;00m:\n",
      "\u001b[36mFile \u001b[39m\u001b[32m~/projects/finance-rag-local/.venv/lib/python3.11/site-packages/sqlalchemy/pool/base.py:895\u001b[39m, in \u001b[36m_ConnectionRecord.__connect\u001b[39m\u001b[34m(self)\u001b[39m\n\u001b[32m    894\u001b[39m \u001b[38;5;28mself\u001b[39m.starttime = time.time()\n\u001b[32m--> \u001b[39m\u001b[32m895\u001b[39m \u001b[38;5;28mself\u001b[39m.dbapi_connection = connection = \u001b[43mpool\u001b[49m\u001b[43m.\u001b[49m\u001b[43m_invoke_creator\u001b[49m\u001b[43m(\u001b[49m\u001b[38;5;28;43mself\u001b[39;49m\u001b[43m)\u001b[49m\n\u001b[32m    896\u001b[39m pool.logger.debug(\u001b[33m\"\u001b[39m\u001b[33mCreated new connection \u001b[39m\u001b[38;5;132;01m%r\u001b[39;00m\u001b[33m\"\u001b[39m, connection)\n",
      "\u001b[36mFile \u001b[39m\u001b[32m~/projects/finance-rag-local/.venv/lib/python3.11/site-packages/sqlalchemy/engine/create.py:646\u001b[39m, in \u001b[36mcreate_engine.<locals>.connect\u001b[39m\u001b[34m(connection_record)\u001b[39m\n\u001b[32m    644\u001b[39m             \u001b[38;5;28;01mreturn\u001b[39;00m connection\n\u001b[32m--> \u001b[39m\u001b[32m646\u001b[39m \u001b[38;5;28;01mreturn\u001b[39;00m \u001b[43mdialect\u001b[49m\u001b[43m.\u001b[49m\u001b[43mconnect\u001b[49m\u001b[43m(\u001b[49m\u001b[43m*\u001b[49m\u001b[43mcargs\u001b[49m\u001b[43m,\u001b[49m\u001b[43m \u001b[49m\u001b[43m*\u001b[49m\u001b[43m*\u001b[49m\u001b[43mcparams\u001b[49m\u001b[43m)\u001b[49m\n",
      "\u001b[36mFile \u001b[39m\u001b[32m~/projects/finance-rag-local/.venv/lib/python3.11/site-packages/sqlalchemy/engine/default.py:626\u001b[39m, in \u001b[36mDefaultDialect.connect\u001b[39m\u001b[34m(self, *cargs, **cparams)\u001b[39m\n\u001b[32m    624\u001b[39m \u001b[38;5;28;01mdef\u001b[39;00m\u001b[38;5;250m \u001b[39m\u001b[34mconnect\u001b[39m(\u001b[38;5;28mself\u001b[39m, *cargs: Any, **cparams: Any) -> DBAPIConnection:\n\u001b[32m    625\u001b[39m     \u001b[38;5;66;03m# inherits the docstring from interfaces.Dialect.connect\u001b[39;00m\n\u001b[32m--> \u001b[39m\u001b[32m626\u001b[39m     \u001b[38;5;28;01mreturn\u001b[39;00m \u001b[38;5;28;43mself\u001b[39;49m\u001b[43m.\u001b[49m\u001b[43mloaded_dbapi\u001b[49m\u001b[43m.\u001b[49m\u001b[43mconnect\u001b[49m\u001b[43m(\u001b[49m\u001b[43m*\u001b[49m\u001b[43mcargs\u001b[49m\u001b[43m,\u001b[49m\u001b[43m \u001b[49m\u001b[43m*\u001b[49m\u001b[43m*\u001b[49m\u001b[43mcparams\u001b[49m\u001b[43m)\u001b[49m\n",
      "\u001b[31mOperationalError\u001b[39m: unable to open database file",
      "\nThe above exception was the direct cause of the following exception:\n",
      "\u001b[31mOperationalError\u001b[39m                          Traceback (most recent call last)",
      "\u001b[36mCell\u001b[39m\u001b[36m \u001b[39m\u001b[32mIn[1]\u001b[39m\u001b[32m, line 7\u001b[39m\n\u001b[32m      4\u001b[39m session_id = \u001b[33m\"\u001b[39m\u001b[33mtest_chat\u001b[39m\u001b[33m\"\u001b[39m\n\u001b[32m      6\u001b[39m \u001b[38;5;66;03m# First question (full context)\u001b[39;00m\n\u001b[32m----> \u001b[39m\u001b[32m7\u001b[39m ans1, _ = \u001b[43manswer\u001b[49m\u001b[43m(\u001b[49m\u001b[33;43m\"\u001b[39;49m\u001b[33;43mWhat did Apple say about iPhone sales in Q3 2024?\u001b[39;49m\u001b[33;43m\"\u001b[39;49m\u001b[43m,\u001b[49m\u001b[43m \u001b[49m\u001b[43msession_id\u001b[49m\u001b[43m=\u001b[49m\u001b[43msession_id\u001b[49m\u001b[43m)\u001b[49m\n\u001b[32m      8\u001b[39m \u001b[38;5;28mprint\u001b[39m(\u001b[33m\"\u001b[39m\u001b[33mQ1:\u001b[39m\u001b[33m\"\u001b[39m, ans1)\n\u001b[32m     10\u001b[39m \u001b[38;5;66;03m# Follow-up without restating\u001b[39;00m\n",
      "\u001b[36mFile \u001b[39m\u001b[32m~/projects/finance-rag-local/src/rag/pipeline.py:17\u001b[39m, in \u001b[36manswer\u001b[39m\u001b[34m(question, top_k, cik, form, session_id)\u001b[39m\n\u001b[32m     15\u001b[39m \u001b[38;5;28;01mdef\u001b[39;00m\u001b[38;5;250m \u001b[39m\u001b[34manswer\u001b[39m(question: \u001b[38;5;28mstr\u001b[39m, top_k=\u001b[32m6\u001b[39m, cik: \u001b[38;5;28mint\u001b[39m | \u001b[38;5;28;01mNone\u001b[39;00m = \u001b[38;5;28;01mNone\u001b[39;00m, form: \u001b[38;5;28mstr\u001b[39m | \u001b[38;5;28;01mNone\u001b[39;00m = \u001b[38;5;28;01mNone\u001b[39;00m, session_id: \u001b[38;5;28mstr\u001b[39m = \u001b[33m\"\u001b[39m\u001b[33mdefault\u001b[39m\u001b[33m\"\u001b[39m):\n\u001b[32m     16\u001b[39m     \u001b[38;5;66;03m# 1) load history (SQLite)\u001b[39;00m\n\u001b[32m---> \u001b[39m\u001b[32m17\u001b[39m     history = \u001b[43mget_history\u001b[49m\u001b[43m(\u001b[49m\u001b[43msession_id\u001b[49m\u001b[43m)\u001b[49m\n\u001b[32m     18\u001b[39m     hist_msgs = history.messages  \u001b[38;5;66;03m# list[BaseMessage]\u001b[39;00m\n\u001b[32m     20\u001b[39m     \u001b[38;5;66;03m# Turn last N into a plain text for condensation\u001b[39;00m\n",
      "\u001b[36mFile \u001b[39m\u001b[32m~/projects/finance-rag-local/src/rag/memory.py:9\u001b[39m, in \u001b[36mget_history\u001b[39m\u001b[34m(session_id)\u001b[39m\n\u001b[32m      8\u001b[39m \u001b[38;5;28;01mdef\u001b[39;00m\u001b[38;5;250m \u001b[39m\u001b[34mget_history\u001b[39m(session_id: \u001b[38;5;28mstr\u001b[39m) -> SQLChatMessageHistory:\n\u001b[32m----> \u001b[39m\u001b[32m9\u001b[39m     \u001b[38;5;28;01mreturn\u001b[39;00m \u001b[43mSQLChatMessageHistory\u001b[49m\u001b[43m(\u001b[49m\u001b[43msession_id\u001b[49m\u001b[43m=\u001b[49m\u001b[43msession_id\u001b[49m\u001b[43m,\u001b[49m\u001b[43m \u001b[49m\u001b[43mconnection_string\u001b[49m\u001b[43m=\u001b[49m\u001b[33;43mf\u001b[39;49m\u001b[33;43m\"\u001b[39;49m\u001b[33;43msqlite:///\u001b[39;49m\u001b[38;5;132;43;01m{\u001b[39;49;00m\u001b[43mDB_PATH\u001b[49m\u001b[38;5;132;43;01m}\u001b[39;49;00m\u001b[33;43m\"\u001b[39;49m\u001b[43m)\u001b[49m\n",
      "\u001b[36mFile \u001b[39m\u001b[32m~/projects/finance-rag-local/.venv/lib/python3.11/site-packages/langchain_community/chat_message_histories/sql.py:229\u001b[39m, in \u001b[36mSQLChatMessageHistory.__init__\u001b[39m\u001b[34m(self, session_id, connection_string, table_name, session_id_field_name, custom_message_converter, connection, engine_args, async_mode)\u001b[39m\n\u001b[32m    227\u001b[39m \u001b[38;5;28mself\u001b[39m._table_created = \u001b[38;5;28;01mFalse\u001b[39;00m\n\u001b[32m    228\u001b[39m \u001b[38;5;28;01mif\u001b[39;00m \u001b[38;5;129;01mnot\u001b[39;00m \u001b[38;5;28mself\u001b[39m.async_mode:\n\u001b[32m--> \u001b[39m\u001b[32m229\u001b[39m     \u001b[38;5;28;43mself\u001b[39;49m\u001b[43m.\u001b[49m\u001b[43m_create_table_if_not_exists\u001b[49m\u001b[43m(\u001b[49m\u001b[43m)\u001b[49m\n\u001b[32m    231\u001b[39m \u001b[38;5;28mself\u001b[39m.session_id = session_id\n",
      "\u001b[36mFile \u001b[39m\u001b[32m~/projects/finance-rag-local/.venv/lib/python3.11/site-packages/langchain_community/chat_message_histories/sql.py:234\u001b[39m, in \u001b[36mSQLChatMessageHistory._create_table_if_not_exists\u001b[39m\u001b[34m(self)\u001b[39m\n\u001b[32m    233\u001b[39m \u001b[38;5;28;01mdef\u001b[39;00m\u001b[38;5;250m \u001b[39m\u001b[34m_create_table_if_not_exists\u001b[39m(\u001b[38;5;28mself\u001b[39m) -> \u001b[38;5;28;01mNone\u001b[39;00m:\n\u001b[32m--> \u001b[39m\u001b[32m234\u001b[39m     \u001b[38;5;28;43mself\u001b[39;49m\u001b[43m.\u001b[49m\u001b[43msql_model_class\u001b[49m\u001b[43m.\u001b[49m\u001b[43mmetadata\u001b[49m\u001b[43m.\u001b[49m\u001b[43mcreate_all\u001b[49m\u001b[43m(\u001b[49m\u001b[38;5;28;43mself\u001b[39;49m\u001b[43m.\u001b[49m\u001b[43mengine\u001b[49m\u001b[43m)\u001b[49m\n\u001b[32m    235\u001b[39m     \u001b[38;5;28mself\u001b[39m._table_created = \u001b[38;5;28;01mTrue\u001b[39;00m\n",
      "\u001b[36mFile \u001b[39m\u001b[32m~/projects/finance-rag-local/.venv/lib/python3.11/site-packages/sqlalchemy/sql/schema.py:5924\u001b[39m, in \u001b[36mMetaData.create_all\u001b[39m\u001b[34m(self, bind, tables, checkfirst)\u001b[39m\n\u001b[32m   5900\u001b[39m \u001b[38;5;28;01mdef\u001b[39;00m\u001b[38;5;250m \u001b[39m\u001b[34mcreate_all\u001b[39m(\n\u001b[32m   5901\u001b[39m     \u001b[38;5;28mself\u001b[39m,\n\u001b[32m   5902\u001b[39m     bind: _CreateDropBind,\n\u001b[32m   5903\u001b[39m     tables: Optional[_typing_Sequence[Table]] = \u001b[38;5;28;01mNone\u001b[39;00m,\n\u001b[32m   5904\u001b[39m     checkfirst: \u001b[38;5;28mbool\u001b[39m = \u001b[38;5;28;01mTrue\u001b[39;00m,\n\u001b[32m   5905\u001b[39m ) -> \u001b[38;5;28;01mNone\u001b[39;00m:\n\u001b[32m   5906\u001b[39m \u001b[38;5;250m    \u001b[39m\u001b[33;03m\"\"\"Create all tables stored in this metadata.\u001b[39;00m\n\u001b[32m   5907\u001b[39m \n\u001b[32m   5908\u001b[39m \u001b[33;03m    Conditional by default, will not attempt to recreate tables already\u001b[39;00m\n\u001b[32m   (...)\u001b[39m\u001b[32m   5922\u001b[39m \n\u001b[32m   5923\u001b[39m \u001b[33;03m    \"\"\"\u001b[39;00m\n\u001b[32m-> \u001b[39m\u001b[32m5924\u001b[39m     \u001b[43mbind\u001b[49m\u001b[43m.\u001b[49m\u001b[43m_run_ddl_visitor\u001b[49m\u001b[43m(\u001b[49m\n\u001b[32m   5925\u001b[39m \u001b[43m        \u001b[49m\u001b[43mddl\u001b[49m\u001b[43m.\u001b[49m\u001b[43mSchemaGenerator\u001b[49m\u001b[43m,\u001b[49m\u001b[43m \u001b[49m\u001b[38;5;28;43mself\u001b[39;49m\u001b[43m,\u001b[49m\u001b[43m \u001b[49m\u001b[43mcheckfirst\u001b[49m\u001b[43m=\u001b[49m\u001b[43mcheckfirst\u001b[49m\u001b[43m,\u001b[49m\u001b[43m \u001b[49m\u001b[43mtables\u001b[49m\u001b[43m=\u001b[49m\u001b[43mtables\u001b[49m\n\u001b[32m   5926\u001b[39m \u001b[43m    \u001b[49m\u001b[43m)\u001b[49m\n",
      "\u001b[36mFile \u001b[39m\u001b[32m~/projects/finance-rag-local/.venv/lib/python3.11/site-packages/sqlalchemy/engine/base.py:3245\u001b[39m, in \u001b[36mEngine._run_ddl_visitor\u001b[39m\u001b[34m(self, visitorcallable, element, **kwargs)\u001b[39m\n\u001b[32m   3239\u001b[39m \u001b[38;5;28;01mdef\u001b[39;00m\u001b[38;5;250m \u001b[39m\u001b[34m_run_ddl_visitor\u001b[39m(\n\u001b[32m   3240\u001b[39m     \u001b[38;5;28mself\u001b[39m,\n\u001b[32m   3241\u001b[39m     visitorcallable: Type[InvokeDDLBase],\n\u001b[32m   3242\u001b[39m     element: SchemaVisitable,\n\u001b[32m   3243\u001b[39m     **kwargs: Any,\n\u001b[32m   3244\u001b[39m ) -> \u001b[38;5;28;01mNone\u001b[39;00m:\n\u001b[32m-> \u001b[39m\u001b[32m3245\u001b[39m \u001b[43m    \u001b[49m\u001b[38;5;28;43;01mwith\u001b[39;49;00m\u001b[43m \u001b[49m\u001b[38;5;28;43mself\u001b[39;49m\u001b[43m.\u001b[49m\u001b[43mbegin\u001b[49m\u001b[43m(\u001b[49m\u001b[43m)\u001b[49m\u001b[43m \u001b[49m\u001b[38;5;28;43;01mas\u001b[39;49;00m\u001b[43m \u001b[49m\u001b[43mconn\u001b[49m\u001b[43m:\u001b[49m\n\u001b[32m   3246\u001b[39m \u001b[43m        \u001b[49m\u001b[43mconn\u001b[49m\u001b[43m.\u001b[49m\u001b[43m_run_ddl_visitor\u001b[49m\u001b[43m(\u001b[49m\u001b[43mvisitorcallable\u001b[49m\u001b[43m,\u001b[49m\u001b[43m \u001b[49m\u001b[43melement\u001b[49m\u001b[43m,\u001b[49m\u001b[43m \u001b[49m\u001b[43m*\u001b[49m\u001b[43m*\u001b[49m\u001b[43mkwargs\u001b[49m\u001b[43m)\u001b[49m\n",
      "\u001b[36mFile \u001b[39m\u001b[32m/opt/homebrew/Cellar/python@3.11/3.11.13/Frameworks/Python.framework/Versions/3.11/lib/python3.11/contextlib.py:137\u001b[39m, in \u001b[36m_GeneratorContextManager.__enter__\u001b[39m\u001b[34m(self)\u001b[39m\n\u001b[32m    135\u001b[39m \u001b[38;5;28;01mdel\u001b[39;00m \u001b[38;5;28mself\u001b[39m.args, \u001b[38;5;28mself\u001b[39m.kwds, \u001b[38;5;28mself\u001b[39m.func\n\u001b[32m    136\u001b[39m \u001b[38;5;28;01mtry\u001b[39;00m:\n\u001b[32m--> \u001b[39m\u001b[32m137\u001b[39m     \u001b[38;5;28;01mreturn\u001b[39;00m \u001b[38;5;28mnext\u001b[39m(\u001b[38;5;28mself\u001b[39m.gen)\n\u001b[32m    138\u001b[39m \u001b[38;5;28;01mexcept\u001b[39;00m \u001b[38;5;167;01mStopIteration\u001b[39;00m:\n\u001b[32m    139\u001b[39m     \u001b[38;5;28;01mraise\u001b[39;00m \u001b[38;5;167;01mRuntimeError\u001b[39;00m(\u001b[33m\"\u001b[39m\u001b[33mgenerator didn\u001b[39m\u001b[33m'\u001b[39m\u001b[33mt yield\u001b[39m\u001b[33m\"\u001b[39m) \u001b[38;5;28;01mfrom\u001b[39;00m\u001b[38;5;250m \u001b[39m\u001b[38;5;28;01mNone\u001b[39;00m\n",
      "\u001b[36mFile \u001b[39m\u001b[32m~/projects/finance-rag-local/.venv/lib/python3.11/site-packages/sqlalchemy/engine/base.py:3235\u001b[39m, in \u001b[36mEngine.begin\u001b[39m\u001b[34m(self)\u001b[39m\n\u001b[32m   3210\u001b[39m \u001b[38;5;129m@contextlib\u001b[39m.contextmanager\n\u001b[32m   3211\u001b[39m \u001b[38;5;28;01mdef\u001b[39;00m\u001b[38;5;250m \u001b[39m\u001b[34mbegin\u001b[39m(\u001b[38;5;28mself\u001b[39m) -> Iterator[Connection]:\n\u001b[32m   3212\u001b[39m \u001b[38;5;250m    \u001b[39m\u001b[33;03m\"\"\"Return a context manager delivering a :class:`_engine.Connection`\u001b[39;00m\n\u001b[32m   3213\u001b[39m \u001b[33;03m    with a :class:`.Transaction` established.\u001b[39;00m\n\u001b[32m   3214\u001b[39m \n\u001b[32m   (...)\u001b[39m\u001b[32m   3233\u001b[39m \n\u001b[32m   3234\u001b[39m \u001b[33;03m    \"\"\"\u001b[39;00m  \u001b[38;5;66;03m# noqa: E501\u001b[39;00m\n\u001b[32m-> \u001b[39m\u001b[32m3235\u001b[39m     \u001b[38;5;28;01mwith\u001b[39;00m \u001b[38;5;28;43mself\u001b[39;49m\u001b[43m.\u001b[49m\u001b[43mconnect\u001b[49m\u001b[43m(\u001b[49m\u001b[43m)\u001b[49m \u001b[38;5;28;01mas\u001b[39;00m conn:\n\u001b[32m   3236\u001b[39m         \u001b[38;5;28;01mwith\u001b[39;00m conn.begin():\n\u001b[32m   3237\u001b[39m             \u001b[38;5;28;01myield\u001b[39;00m conn\n",
      "\u001b[36mFile \u001b[39m\u001b[32m~/projects/finance-rag-local/.venv/lib/python3.11/site-packages/sqlalchemy/engine/base.py:3271\u001b[39m, in \u001b[36mEngine.connect\u001b[39m\u001b[34m(self)\u001b[39m\n\u001b[32m   3248\u001b[39m \u001b[38;5;28;01mdef\u001b[39;00m\u001b[38;5;250m \u001b[39m\u001b[34mconnect\u001b[39m(\u001b[38;5;28mself\u001b[39m) -> Connection:\n\u001b[32m   3249\u001b[39m \u001b[38;5;250m    \u001b[39m\u001b[33;03m\"\"\"Return a new :class:`_engine.Connection` object.\u001b[39;00m\n\u001b[32m   3250\u001b[39m \n\u001b[32m   3251\u001b[39m \u001b[33;03m    The :class:`_engine.Connection` acts as a Python context manager, so\u001b[39;00m\n\u001b[32m   (...)\u001b[39m\u001b[32m   3268\u001b[39m \n\u001b[32m   3269\u001b[39m \u001b[33;03m    \"\"\"\u001b[39;00m\n\u001b[32m-> \u001b[39m\u001b[32m3271\u001b[39m     \u001b[38;5;28;01mreturn\u001b[39;00m \u001b[38;5;28;43mself\u001b[39;49m\u001b[43m.\u001b[49m\u001b[43m_connection_cls\u001b[49m\u001b[43m(\u001b[49m\u001b[38;5;28;43mself\u001b[39;49m\u001b[43m)\u001b[49m\n",
      "\u001b[36mFile \u001b[39m\u001b[32m~/projects/finance-rag-local/.venv/lib/python3.11/site-packages/sqlalchemy/engine/base.py:145\u001b[39m, in \u001b[36mConnection.__init__\u001b[39m\u001b[34m(self, engine, connection, _has_events, _allow_revalidate, _allow_autobegin)\u001b[39m\n\u001b[32m    143\u001b[39m         \u001b[38;5;28mself\u001b[39m._dbapi_connection = engine.raw_connection()\n\u001b[32m    144\u001b[39m     \u001b[38;5;28;01mexcept\u001b[39;00m dialect.loaded_dbapi.Error \u001b[38;5;28;01mas\u001b[39;00m err:\n\u001b[32m--> \u001b[39m\u001b[32m145\u001b[39m         \u001b[43mConnection\u001b[49m\u001b[43m.\u001b[49m\u001b[43m_handle_dbapi_exception_noconnection\u001b[49m\u001b[43m(\u001b[49m\n\u001b[32m    146\u001b[39m \u001b[43m            \u001b[49m\u001b[43merr\u001b[49m\u001b[43m,\u001b[49m\u001b[43m \u001b[49m\u001b[43mdialect\u001b[49m\u001b[43m,\u001b[49m\u001b[43m \u001b[49m\u001b[43mengine\u001b[49m\n\u001b[32m    147\u001b[39m \u001b[43m        \u001b[49m\u001b[43m)\u001b[49m\n\u001b[32m    148\u001b[39m         \u001b[38;5;28;01mraise\u001b[39;00m\n\u001b[32m    149\u001b[39m \u001b[38;5;28;01melse\u001b[39;00m:\n",
      "\u001b[36mFile \u001b[39m\u001b[32m~/projects/finance-rag-local/.venv/lib/python3.11/site-packages/sqlalchemy/engine/base.py:2434\u001b[39m, in \u001b[36mConnection._handle_dbapi_exception_noconnection\u001b[39m\u001b[34m(cls, e, dialect, engine, is_disconnect, invalidate_pool_on_disconnect, is_pre_ping)\u001b[39m\n\u001b[32m   2432\u001b[39m \u001b[38;5;28;01melif\u001b[39;00m should_wrap:\n\u001b[32m   2433\u001b[39m     \u001b[38;5;28;01massert\u001b[39;00m sqlalchemy_exception \u001b[38;5;129;01mis\u001b[39;00m \u001b[38;5;129;01mnot\u001b[39;00m \u001b[38;5;28;01mNone\u001b[39;00m\n\u001b[32m-> \u001b[39m\u001b[32m2434\u001b[39m     \u001b[38;5;28;01mraise\u001b[39;00m sqlalchemy_exception.with_traceback(exc_info[\u001b[32m2\u001b[39m]) \u001b[38;5;28;01mfrom\u001b[39;00m\u001b[38;5;250m \u001b[39m\u001b[34;01me\u001b[39;00m\n\u001b[32m   2435\u001b[39m \u001b[38;5;28;01melse\u001b[39;00m:\n\u001b[32m   2436\u001b[39m     \u001b[38;5;28;01massert\u001b[39;00m exc_info[\u001b[32m1\u001b[39m] \u001b[38;5;129;01mis\u001b[39;00m \u001b[38;5;129;01mnot\u001b[39;00m \u001b[38;5;28;01mNone\u001b[39;00m\n",
      "\u001b[36mFile \u001b[39m\u001b[32m~/projects/finance-rag-local/.venv/lib/python3.11/site-packages/sqlalchemy/engine/base.py:143\u001b[39m, in \u001b[36mConnection.__init__\u001b[39m\u001b[34m(self, engine, connection, _has_events, _allow_revalidate, _allow_autobegin)\u001b[39m\n\u001b[32m    141\u001b[39m \u001b[38;5;28;01mif\u001b[39;00m connection \u001b[38;5;129;01mis\u001b[39;00m \u001b[38;5;28;01mNone\u001b[39;00m:\n\u001b[32m    142\u001b[39m     \u001b[38;5;28;01mtry\u001b[39;00m:\n\u001b[32m--> \u001b[39m\u001b[32m143\u001b[39m         \u001b[38;5;28mself\u001b[39m._dbapi_connection = \u001b[43mengine\u001b[49m\u001b[43m.\u001b[49m\u001b[43mraw_connection\u001b[49m\u001b[43m(\u001b[49m\u001b[43m)\u001b[49m\n\u001b[32m    144\u001b[39m     \u001b[38;5;28;01mexcept\u001b[39;00m dialect.loaded_dbapi.Error \u001b[38;5;28;01mas\u001b[39;00m err:\n\u001b[32m    145\u001b[39m         Connection._handle_dbapi_exception_noconnection(\n\u001b[32m    146\u001b[39m             err, dialect, engine\n\u001b[32m    147\u001b[39m         )\n",
      "\u001b[36mFile \u001b[39m\u001b[32m~/projects/finance-rag-local/.venv/lib/python3.11/site-packages/sqlalchemy/engine/base.py:3295\u001b[39m, in \u001b[36mEngine.raw_connection\u001b[39m\u001b[34m(self)\u001b[39m\n\u001b[32m   3273\u001b[39m \u001b[38;5;28;01mdef\u001b[39;00m\u001b[38;5;250m \u001b[39m\u001b[34mraw_connection\u001b[39m(\u001b[38;5;28mself\u001b[39m) -> PoolProxiedConnection:\n\u001b[32m   3274\u001b[39m \u001b[38;5;250m    \u001b[39m\u001b[33;03m\"\"\"Return a \"raw\" DBAPI connection from the connection pool.\u001b[39;00m\n\u001b[32m   3275\u001b[39m \n\u001b[32m   3276\u001b[39m \u001b[33;03m    The returned object is a proxied version of the DBAPI\u001b[39;00m\n\u001b[32m   (...)\u001b[39m\u001b[32m   3293\u001b[39m \n\u001b[32m   3294\u001b[39m \u001b[33;03m    \"\"\"\u001b[39;00m\n\u001b[32m-> \u001b[39m\u001b[32m3295\u001b[39m     \u001b[38;5;28;01mreturn\u001b[39;00m \u001b[38;5;28;43mself\u001b[39;49m\u001b[43m.\u001b[49m\u001b[43mpool\u001b[49m\u001b[43m.\u001b[49m\u001b[43mconnect\u001b[49m\u001b[43m(\u001b[49m\u001b[43m)\u001b[49m\n",
      "\u001b[36mFile \u001b[39m\u001b[32m~/projects/finance-rag-local/.venv/lib/python3.11/site-packages/sqlalchemy/pool/base.py:447\u001b[39m, in \u001b[36mPool.connect\u001b[39m\u001b[34m(self)\u001b[39m\n\u001b[32m    439\u001b[39m \u001b[38;5;28;01mdef\u001b[39;00m\u001b[38;5;250m \u001b[39m\u001b[34mconnect\u001b[39m(\u001b[38;5;28mself\u001b[39m) -> PoolProxiedConnection:\n\u001b[32m    440\u001b[39m \u001b[38;5;250m    \u001b[39m\u001b[33;03m\"\"\"Return a DBAPI connection from the pool.\u001b[39;00m\n\u001b[32m    441\u001b[39m \n\u001b[32m    442\u001b[39m \u001b[33;03m    The connection is instrumented such that when its\u001b[39;00m\n\u001b[32m   (...)\u001b[39m\u001b[32m    445\u001b[39m \n\u001b[32m    446\u001b[39m \u001b[33;03m    \"\"\"\u001b[39;00m\n\u001b[32m--> \u001b[39m\u001b[32m447\u001b[39m     \u001b[38;5;28;01mreturn\u001b[39;00m \u001b[43m_ConnectionFairy\u001b[49m\u001b[43m.\u001b[49m\u001b[43m_checkout\u001b[49m\u001b[43m(\u001b[49m\u001b[38;5;28;43mself\u001b[39;49m\u001b[43m)\u001b[49m\n",
      "\u001b[36mFile \u001b[39m\u001b[32m~/projects/finance-rag-local/.venv/lib/python3.11/site-packages/sqlalchemy/pool/base.py:1264\u001b[39m, in \u001b[36m_ConnectionFairy._checkout\u001b[39m\u001b[34m(cls, pool, threadconns, fairy)\u001b[39m\n\u001b[32m   1256\u001b[39m \u001b[38;5;129m@classmethod\u001b[39m\n\u001b[32m   1257\u001b[39m \u001b[38;5;28;01mdef\u001b[39;00m\u001b[38;5;250m \u001b[39m\u001b[34m_checkout\u001b[39m(\n\u001b[32m   1258\u001b[39m     \u001b[38;5;28mcls\u001b[39m,\n\u001b[32m   (...)\u001b[39m\u001b[32m   1261\u001b[39m     fairy: Optional[_ConnectionFairy] = \u001b[38;5;28;01mNone\u001b[39;00m,\n\u001b[32m   1262\u001b[39m ) -> _ConnectionFairy:\n\u001b[32m   1263\u001b[39m     \u001b[38;5;28;01mif\u001b[39;00m \u001b[38;5;129;01mnot\u001b[39;00m fairy:\n\u001b[32m-> \u001b[39m\u001b[32m1264\u001b[39m         fairy = \u001b[43m_ConnectionRecord\u001b[49m\u001b[43m.\u001b[49m\u001b[43mcheckout\u001b[49m\u001b[43m(\u001b[49m\u001b[43mpool\u001b[49m\u001b[43m)\u001b[49m\n\u001b[32m   1266\u001b[39m         \u001b[38;5;28;01mif\u001b[39;00m threadconns \u001b[38;5;129;01mis\u001b[39;00m \u001b[38;5;129;01mnot\u001b[39;00m \u001b[38;5;28;01mNone\u001b[39;00m:\n\u001b[32m   1267\u001b[39m             threadconns.current = weakref.ref(fairy)\n",
      "\u001b[36mFile \u001b[39m\u001b[32m~/projects/finance-rag-local/.venv/lib/python3.11/site-packages/sqlalchemy/pool/base.py:711\u001b[39m, in \u001b[36m_ConnectionRecord.checkout\u001b[39m\u001b[34m(cls, pool)\u001b[39m\n\u001b[32m    709\u001b[39m     rec = cast(_ConnectionRecord, pool._do_get())\n\u001b[32m    710\u001b[39m \u001b[38;5;28;01melse\u001b[39;00m:\n\u001b[32m--> \u001b[39m\u001b[32m711\u001b[39m     rec = \u001b[43mpool\u001b[49m\u001b[43m.\u001b[49m\u001b[43m_do_get\u001b[49m\u001b[43m(\u001b[49m\u001b[43m)\u001b[49m\n\u001b[32m    713\u001b[39m \u001b[38;5;28;01mtry\u001b[39;00m:\n\u001b[32m    714\u001b[39m     dbapi_connection = rec.get_connection()\n",
      "\u001b[36mFile \u001b[39m\u001b[32m~/projects/finance-rag-local/.venv/lib/python3.11/site-packages/sqlalchemy/pool/impl.py:177\u001b[39m, in \u001b[36mQueuePool._do_get\u001b[39m\u001b[34m(self)\u001b[39m\n\u001b[32m    175\u001b[39m     \u001b[38;5;28;01mreturn\u001b[39;00m \u001b[38;5;28mself\u001b[39m._create_connection()\n\u001b[32m    176\u001b[39m \u001b[38;5;28;01mexcept\u001b[39;00m:\n\u001b[32m--> \u001b[39m\u001b[32m177\u001b[39m \u001b[43m    \u001b[49m\u001b[38;5;28;43;01mwith\u001b[39;49;00m\u001b[43m \u001b[49m\u001b[43mutil\u001b[49m\u001b[43m.\u001b[49m\u001b[43msafe_reraise\u001b[49m\u001b[43m(\u001b[49m\u001b[43m)\u001b[49m\u001b[43m:\u001b[49m\n\u001b[32m    178\u001b[39m \u001b[43m        \u001b[49m\u001b[38;5;28;43mself\u001b[39;49m\u001b[43m.\u001b[49m\u001b[43m_dec_overflow\u001b[49m\u001b[43m(\u001b[49m\u001b[43m)\u001b[49m\n\u001b[32m    179\u001b[39m     \u001b[38;5;28;01mraise\u001b[39;00m\n",
      "\u001b[36mFile \u001b[39m\u001b[32m~/projects/finance-rag-local/.venv/lib/python3.11/site-packages/sqlalchemy/util/langhelpers.py:224\u001b[39m, in \u001b[36msafe_reraise.__exit__\u001b[39m\u001b[34m(self, type_, value, traceback)\u001b[39m\n\u001b[32m    222\u001b[39m     \u001b[38;5;28;01massert\u001b[39;00m exc_value \u001b[38;5;129;01mis\u001b[39;00m \u001b[38;5;129;01mnot\u001b[39;00m \u001b[38;5;28;01mNone\u001b[39;00m\n\u001b[32m    223\u001b[39m     \u001b[38;5;28mself\u001b[39m._exc_info = \u001b[38;5;28;01mNone\u001b[39;00m  \u001b[38;5;66;03m# remove potential circular references\u001b[39;00m\n\u001b[32m--> \u001b[39m\u001b[32m224\u001b[39m     \u001b[38;5;28;01mraise\u001b[39;00m exc_value.with_traceback(exc_tb)\n\u001b[32m    225\u001b[39m \u001b[38;5;28;01melse\u001b[39;00m:\n\u001b[32m    226\u001b[39m     \u001b[38;5;28mself\u001b[39m._exc_info = \u001b[38;5;28;01mNone\u001b[39;00m  \u001b[38;5;66;03m# remove potential circular references\u001b[39;00m\n",
      "\u001b[36mFile \u001b[39m\u001b[32m~/projects/finance-rag-local/.venv/lib/python3.11/site-packages/sqlalchemy/pool/impl.py:175\u001b[39m, in \u001b[36mQueuePool._do_get\u001b[39m\u001b[34m(self)\u001b[39m\n\u001b[32m    173\u001b[39m \u001b[38;5;28;01mif\u001b[39;00m \u001b[38;5;28mself\u001b[39m._inc_overflow():\n\u001b[32m    174\u001b[39m     \u001b[38;5;28;01mtry\u001b[39;00m:\n\u001b[32m--> \u001b[39m\u001b[32m175\u001b[39m         \u001b[38;5;28;01mreturn\u001b[39;00m \u001b[38;5;28;43mself\u001b[39;49m\u001b[43m.\u001b[49m\u001b[43m_create_connection\u001b[49m\u001b[43m(\u001b[49m\u001b[43m)\u001b[49m\n\u001b[32m    176\u001b[39m     \u001b[38;5;28;01mexcept\u001b[39;00m:\n\u001b[32m    177\u001b[39m         \u001b[38;5;28;01mwith\u001b[39;00m util.safe_reraise():\n",
      "\u001b[36mFile \u001b[39m\u001b[32m~/projects/finance-rag-local/.venv/lib/python3.11/site-packages/sqlalchemy/pool/base.py:388\u001b[39m, in \u001b[36mPool._create_connection\u001b[39m\u001b[34m(self)\u001b[39m\n\u001b[32m    385\u001b[39m \u001b[38;5;28;01mdef\u001b[39;00m\u001b[38;5;250m \u001b[39m\u001b[34m_create_connection\u001b[39m(\u001b[38;5;28mself\u001b[39m) -> ConnectionPoolEntry:\n\u001b[32m    386\u001b[39m \u001b[38;5;250m    \u001b[39m\u001b[33;03m\"\"\"Called by subclasses to create a new ConnectionRecord.\"\"\"\u001b[39;00m\n\u001b[32m--> \u001b[39m\u001b[32m388\u001b[39m     \u001b[38;5;28;01mreturn\u001b[39;00m \u001b[43m_ConnectionRecord\u001b[49m\u001b[43m(\u001b[49m\u001b[38;5;28;43mself\u001b[39;49m\u001b[43m)\u001b[49m\n",
      "\u001b[36mFile \u001b[39m\u001b[32m~/projects/finance-rag-local/.venv/lib/python3.11/site-packages/sqlalchemy/pool/base.py:673\u001b[39m, in \u001b[36m_ConnectionRecord.__init__\u001b[39m\u001b[34m(self, pool, connect)\u001b[39m\n\u001b[32m    671\u001b[39m \u001b[38;5;28mself\u001b[39m.__pool = pool\n\u001b[32m    672\u001b[39m \u001b[38;5;28;01mif\u001b[39;00m connect:\n\u001b[32m--> \u001b[39m\u001b[32m673\u001b[39m     \u001b[38;5;28;43mself\u001b[39;49m\u001b[43m.\u001b[49m\u001b[43m__connect\u001b[49m\u001b[43m(\u001b[49m\u001b[43m)\u001b[49m\n\u001b[32m    674\u001b[39m \u001b[38;5;28mself\u001b[39m.finalize_callback = deque()\n",
      "\u001b[36mFile \u001b[39m\u001b[32m~/projects/finance-rag-local/.venv/lib/python3.11/site-packages/sqlalchemy/pool/base.py:899\u001b[39m, in \u001b[36m_ConnectionRecord.__connect\u001b[39m\u001b[34m(self)\u001b[39m\n\u001b[32m    897\u001b[39m     \u001b[38;5;28mself\u001b[39m.fresh = \u001b[38;5;28;01mTrue\u001b[39;00m\n\u001b[32m    898\u001b[39m \u001b[38;5;28;01mexcept\u001b[39;00m \u001b[38;5;167;01mBaseException\u001b[39;00m \u001b[38;5;28;01mas\u001b[39;00m e:\n\u001b[32m--> \u001b[39m\u001b[32m899\u001b[39m \u001b[43m    \u001b[49m\u001b[38;5;28;43;01mwith\u001b[39;49;00m\u001b[43m \u001b[49m\u001b[43mutil\u001b[49m\u001b[43m.\u001b[49m\u001b[43msafe_reraise\u001b[49m\u001b[43m(\u001b[49m\u001b[43m)\u001b[49m\u001b[43m:\u001b[49m\n\u001b[32m    900\u001b[39m \u001b[43m        \u001b[49m\u001b[43mpool\u001b[49m\u001b[43m.\u001b[49m\u001b[43mlogger\u001b[49m\u001b[43m.\u001b[49m\u001b[43mdebug\u001b[49m\u001b[43m(\u001b[49m\u001b[33;43m\"\u001b[39;49m\u001b[33;43mError on connect(): \u001b[39;49m\u001b[38;5;132;43;01m%s\u001b[39;49;00m\u001b[33;43m\"\u001b[39;49m\u001b[43m,\u001b[49m\u001b[43m \u001b[49m\u001b[43me\u001b[49m\u001b[43m)\u001b[49m\n\u001b[32m    901\u001b[39m \u001b[38;5;28;01melse\u001b[39;00m:\n\u001b[32m    902\u001b[39m     \u001b[38;5;66;03m# in SQLAlchemy 1.4 the first_connect event is not used by\u001b[39;00m\n\u001b[32m    903\u001b[39m     \u001b[38;5;66;03m# the engine, so this will usually not be set\u001b[39;00m\n",
      "\u001b[36mFile \u001b[39m\u001b[32m~/projects/finance-rag-local/.venv/lib/python3.11/site-packages/sqlalchemy/util/langhelpers.py:224\u001b[39m, in \u001b[36msafe_reraise.__exit__\u001b[39m\u001b[34m(self, type_, value, traceback)\u001b[39m\n\u001b[32m    222\u001b[39m     \u001b[38;5;28;01massert\u001b[39;00m exc_value \u001b[38;5;129;01mis\u001b[39;00m \u001b[38;5;129;01mnot\u001b[39;00m \u001b[38;5;28;01mNone\u001b[39;00m\n\u001b[32m    223\u001b[39m     \u001b[38;5;28mself\u001b[39m._exc_info = \u001b[38;5;28;01mNone\u001b[39;00m  \u001b[38;5;66;03m# remove potential circular references\u001b[39;00m\n\u001b[32m--> \u001b[39m\u001b[32m224\u001b[39m     \u001b[38;5;28;01mraise\u001b[39;00m exc_value.with_traceback(exc_tb)\n\u001b[32m    225\u001b[39m \u001b[38;5;28;01melse\u001b[39;00m:\n\u001b[32m    226\u001b[39m     \u001b[38;5;28mself\u001b[39m._exc_info = \u001b[38;5;28;01mNone\u001b[39;00m  \u001b[38;5;66;03m# remove potential circular references\u001b[39;00m\n",
      "\u001b[36mFile \u001b[39m\u001b[32m~/projects/finance-rag-local/.venv/lib/python3.11/site-packages/sqlalchemy/pool/base.py:895\u001b[39m, in \u001b[36m_ConnectionRecord.__connect\u001b[39m\u001b[34m(self)\u001b[39m\n\u001b[32m    893\u001b[39m \u001b[38;5;28;01mtry\u001b[39;00m:\n\u001b[32m    894\u001b[39m     \u001b[38;5;28mself\u001b[39m.starttime = time.time()\n\u001b[32m--> \u001b[39m\u001b[32m895\u001b[39m     \u001b[38;5;28mself\u001b[39m.dbapi_connection = connection = \u001b[43mpool\u001b[49m\u001b[43m.\u001b[49m\u001b[43m_invoke_creator\u001b[49m\u001b[43m(\u001b[49m\u001b[38;5;28;43mself\u001b[39;49m\u001b[43m)\u001b[49m\n\u001b[32m    896\u001b[39m     pool.logger.debug(\u001b[33m\"\u001b[39m\u001b[33mCreated new connection \u001b[39m\u001b[38;5;132;01m%r\u001b[39;00m\u001b[33m\"\u001b[39m, connection)\n\u001b[32m    897\u001b[39m     \u001b[38;5;28mself\u001b[39m.fresh = \u001b[38;5;28;01mTrue\u001b[39;00m\n",
      "\u001b[36mFile \u001b[39m\u001b[32m~/projects/finance-rag-local/.venv/lib/python3.11/site-packages/sqlalchemy/engine/create.py:646\u001b[39m, in \u001b[36mcreate_engine.<locals>.connect\u001b[39m\u001b[34m(connection_record)\u001b[39m\n\u001b[32m    643\u001b[39m         \u001b[38;5;28;01mif\u001b[39;00m connection \u001b[38;5;129;01mis\u001b[39;00m \u001b[38;5;129;01mnot\u001b[39;00m \u001b[38;5;28;01mNone\u001b[39;00m:\n\u001b[32m    644\u001b[39m             \u001b[38;5;28;01mreturn\u001b[39;00m connection\n\u001b[32m--> \u001b[39m\u001b[32m646\u001b[39m \u001b[38;5;28;01mreturn\u001b[39;00m \u001b[43mdialect\u001b[49m\u001b[43m.\u001b[49m\u001b[43mconnect\u001b[49m\u001b[43m(\u001b[49m\u001b[43m*\u001b[49m\u001b[43mcargs\u001b[49m\u001b[43m,\u001b[49m\u001b[43m \u001b[49m\u001b[43m*\u001b[49m\u001b[43m*\u001b[49m\u001b[43mcparams\u001b[49m\u001b[43m)\u001b[49m\n",
      "\u001b[36mFile \u001b[39m\u001b[32m~/projects/finance-rag-local/.venv/lib/python3.11/site-packages/sqlalchemy/engine/default.py:626\u001b[39m, in \u001b[36mDefaultDialect.connect\u001b[39m\u001b[34m(self, *cargs, **cparams)\u001b[39m\n\u001b[32m    624\u001b[39m \u001b[38;5;28;01mdef\u001b[39;00m\u001b[38;5;250m \u001b[39m\u001b[34mconnect\u001b[39m(\u001b[38;5;28mself\u001b[39m, *cargs: Any, **cparams: Any) -> DBAPIConnection:\n\u001b[32m    625\u001b[39m     \u001b[38;5;66;03m# inherits the docstring from interfaces.Dialect.connect\u001b[39;00m\n\u001b[32m--> \u001b[39m\u001b[32m626\u001b[39m     \u001b[38;5;28;01mreturn\u001b[39;00m \u001b[38;5;28;43mself\u001b[39;49m\u001b[43m.\u001b[49m\u001b[43mloaded_dbapi\u001b[49m\u001b[43m.\u001b[49m\u001b[43mconnect\u001b[49m\u001b[43m(\u001b[49m\u001b[43m*\u001b[49m\u001b[43mcargs\u001b[49m\u001b[43m,\u001b[49m\u001b[43m \u001b[49m\u001b[43m*\u001b[49m\u001b[43m*\u001b[49m\u001b[43mcparams\u001b[49m\u001b[43m)\u001b[49m\n",
      "\u001b[31mOperationalError\u001b[39m: (sqlite3.OperationalError) unable to open database file\n(Background on this error at: https://sqlalche.me/e/20/e3q8)"
     ]
    }
   ],
   "source": [
    "from rag.pipeline import answer\n",
    "\n",
    "# Start a new session\n",
    "session_id = \"test_chat\"\n",
    "\n",
    "# First question (full context)\n",
    "ans1, _ = answer(\"What did Apple say about iPhone sales in Q3 2024?\", session_id=session_id)\n",
    "print(\"Q1:\", ans1)\n",
    "\n",
    "# Follow-up without restating\n",
    "ans2, _ = answer(\"And what about Mac sales?\", session_id=session_id)\n",
    "print(\"Q2:\", ans2)\n"
   ]
  },
  {
   "cell_type": "code",
   "execution_count": 1,
   "id": "ab9e7d66",
   "metadata": {},
   "outputs": [],
   "source": [
    "import os\n",
    "ROOT = \"/Users/ruchirnamjoshi/projects/finance-rag-local\"\n",
    "out_dir = os.path.join(ROOT, \"data/raw\")"
   ]
  },
  {
   "cell_type": "code",
   "execution_count": 2,
   "id": "72d49b52",
   "metadata": {},
   "outputs": [
    {
     "name": "stdout",
     "output_type": "stream",
     "text": [
      "Primary filings: 44\n"
     ]
    },
    {
     "name": "stderr",
     "output_type": "stream",
     "text": [
      "/Users/ruchirnamjoshi/projects/finance-rag-local/src/ingest/build_corpus.py:60: LangChainDeprecationWarning: The class `OllamaEmbeddings` was deprecated in LangChain 0.3.1 and will be removed in 1.0.0. An updated version of the class exists in the :class:`~langchain-ollama package and should be used instead. To use it run `pip install -U :class:`~langchain-ollama` and import as `from :class:`~langchain_ollama import OllamaEmbeddings``.\n",
      "  emb = OllamaEmbeddings(model=EMBED_MODEL)\n",
      "/Users/ruchirnamjoshi/projects/finance-rag-local/src/ingest/build_corpus.py:63: LangChainDeprecationWarning: The class `Qdrant` was deprecated in LangChain 0.0.37 and will be removed in 1.0. An updated version of the class exists in the :class:`~langchain-qdrant package and should be used instead. To use it run `pip install -U :class:`~langchain-qdrant` and import as `from :class:`~langchain_qdrant import Qdrant``.\n",
      "  vs = LCQdrant(client=client, collection_name=COLL, embeddings=emb)\n"
     ]
    },
    {
     "name": "stdout",
     "output_type": "stream",
     "text": [
      "Indexed 226 chunks from www.sec.gov_Archives_edgar_data_796343_000079634325000073_adbe-20250530.htm.html\n",
      "Indexed 156 chunks from www.sec.gov_Archives_edgar_data_1045810_000104581025000116_nvda-20250427.htm.html\n",
      "Indexed 142 chunks from www.sec.gov_Archives_edgar_data_1318605_000162828025018911_tsla-20250331.htm.html\n",
      "Indexed 404 chunks from www.sec.gov_Archives_edgar_data_1326801_000162828025036791_meta-20250630.htm.html\n",
      "Indexed 303 chunks from www.sec.gov_Archives_edgar_data_1090872_000109087225000021_a-20250430.htm.html\n",
      "Indexed 223 chunks from www.sec.gov_Archives_edgar_data_796343_000079634324000208_adbe-20240830.htm.html\n",
      "Indexed 170 chunks from www.sec.gov_Archives_edgar_data_1045810_000104581024000316_nvda-20241027.htm.html\n",
      "Indexed 258 chunks from www.sec.gov_Archives_edgar_data_2488_000000248825000108_amd-20250628.htm.html\n",
      "Indexed 179 chunks from www.sec.gov_Archives_edgar_data_1652044_000165204425000043_goog-20250331.htm.html\n",
      "Indexed 177 chunks from www.sec.gov_Archives_edgar_data_1045810_000104581024000264_nvda-20240728.htm.html\n",
      "Indexed 154 chunks from www.sec.gov_Archives_edgar_data_1318605_000162828025035806_tsla-20250630.htm.html\n",
      "Indexed 216 chunks from www.sec.gov_Archives_edgar_data_796343_000079634325000059_adbe-20250228.htm.html\n",
      "Indexed 390 chunks from www.sec.gov_Archives_edgar_data_1326801_000132680125000054_meta-20250331.htm.html\n",
      "Indexed 298 chunks from www.sec.gov_Archives_edgar_data_1090872_000109087224000033_a-20240731.htm.html\n",
      "Indexed 98 chunks from www.sec.gov_Archives_edgar_data_320193_000032019325000057_aapl-20250329.htm.html\n",
      "Indexed 153 chunks from www.sec.gov_Archives_edgar_data_1318605_000162828024043486_tsla-20240930.htm.html\n",
      "Indexed 214 chunks from www.sec.gov_Archives_edgar_data_1652044_000165204424000118_goog-20240930.htm.html\n",
      "Indexed 213 chunks from www.sec.gov_Archives_edgar_data_50863_000005086324000149_intc-20240928.htm.html\n",
      "Indexed 408 chunks from www.sec.gov_Archives_edgar_data_1326801_000132680124000081_meta-20240930.htm.html\n",
      "Indexed 235 chunks from www.sec.gov_Archives_edgar_data_2488_000000248825000047_amd-20250329.htm.html\n",
      "Indexed 578 chunks from www.sec.gov_Archives_edgar_data_1090872_000109087224000049_a-20241031.htm.html\n",
      "Indexed 552 chunks from www.sec.gov_Archives_edgar_data_1326801_000132680125000017_meta-20241231.htm.html\n",
      "Indexed 382 chunks from www.sec.gov_Archives_edgar_data_1045810_000104581025000023_nvda-20250126.htm.html\n",
      "Indexed 239 chunks from www.sec.gov_Archives_edgar_data_789019_000095017024118967_msft-20240930.htm.html\n",
      "Indexed 196 chunks from www.sec.gov_Archives_edgar_data_1018724_000101872425000036_amzn-20250331.htm.html\n",
      "Indexed 333 chunks from www.sec.gov_Archives_edgar_data_1018724_000101872425000004_amzn-20241231.htm.html\n",
      "Indexed 430 chunks from www.sec.gov_Archives_edgar_data_1318605_000162828025003063_tsla-20241231.htm.html\n",
      "Indexed 261 chunks from www.sec.gov_Archives_edgar_data_789019_000095017025061046_msft-20250331.htm.html\n",
      "Indexed 212 chunks from www.sec.gov_Archives_edgar_data_1018724_000101872425000086_amzn-20250630.htm.html\n",
      "Indexed 81 chunks from www.sec.gov_Archives_edgar_data_320193_000032019325000008_aapl-20241228.htm.html\n",
      "Indexed 258 chunks from www.sec.gov_Archives_edgar_data_789019_000095017025010491_msft-20241231.htm.html\n",
      "Indexed 421 chunks from www.sec.gov_Archives_edgar_data_796343_000079634325000004_adbe-20241129.htm.html\n",
      "Indexed 551 chunks from www.sec.gov_Archives_edgar_data_50863_000005086325000009_intc-20241228.htm.html\n",
      "Indexed 81 chunks from www.sec.gov_Archives_edgar_data_320193_000032019325000073_aapl-20250628.htm.html\n",
      "Indexed 220 chunks from www.sec.gov_Archives_edgar_data_1018724_000101872424000161_amzn-20240930.htm.html\n",
      "Indexed 422 chunks from www.sec.gov_Archives_edgar_data_2488_000000248825000012_amd-20241228.htm.html\n",
      "Indexed 218 chunks from www.sec.gov_Archives_edgar_data_1652044_000165204425000062_goog-20250630.htm.html\n",
      "Indexed 167 chunks from www.sec.gov_Archives_edgar_data_50863_000005086325000074_intc-20250329.htm.html\n",
      "Indexed 237 chunks from www.sec.gov_Archives_edgar_data_2488_000000248824000163_amd-20240928.htm.html\n",
      "Indexed 219 chunks from www.sec.gov_Archives_edgar_data_50863_000005086325000109_intc-20250628.htm.html\n",
      "Indexed 241 chunks from www.sec.gov_Archives_edgar_data_320193_000032019324000123_aapl-20240928.htm.html\n",
      "Indexed 254 chunks from www.sec.gov_Archives_edgar_data_1090872_000109087225000008_a-20250131.htm.html\n",
      "Indexed 372 chunks from www.sec.gov_Archives_edgar_data_789019_000095017025100235_msft-20250630.htm.html\n",
      "Indexed 408 chunks from www.sec.gov_Archives_edgar_data_1652044_000165204425000014_goog-20241231.htm.html\n",
      "Total chunks indexed: 11950\n"
     ]
    },
    {
     "data": {
      "text/plain": [
       "11950"
      ]
     },
     "execution_count": 2,
     "metadata": {},
     "output_type": "execute_result"
    }
   ],
   "source": [
    "import os\n",
    "\n",
    "from ingest.build_corpus import index_directory\n",
    "index_directory(out_dir)\n"
   ]
  },
  {
   "cell_type": "code",
   "execution_count": 1,
   "id": "4e969842",
   "metadata": {},
   "outputs": [
    {
     "name": "stdout",
     "output_type": "stream",
     "text": [
      "Chat DB path: /Users/ruchirnamjoshi/projects/finance-rag-local/data/chat_history.sqlite3\n"
     ]
    }
   ],
   "source": [
    "import os, pathlib\n",
    "ROOT = pathlib.Path(\"/Users/ruchirnamjoshi/projects/finance-rag-local\")  # adjust if different\n",
    "CHAT_DIR = ROOT / \"data\"\n",
    "CHAT_DIR.mkdir(parents=True, exist_ok=True)\n",
    "\n",
    "os.environ[\"CHAT_DB_PATH\"] = str(CHAT_DIR / \"chat_history.sqlite3\")\n",
    "print(\"Chat DB path:\", os.environ[\"CHAT_DB_PATH\"])\n"
   ]
  },
  {
   "cell_type": "code",
   "execution_count": 1,
   "id": "cbea85f5",
   "metadata": {},
   "outputs": [],
   "source": [
    "import os\n",
    "os.chdir(\"..\")  # move to project root\n"
   ]
  },
  {
   "cell_type": "code",
   "execution_count": null,
   "id": "58097e3c",
   "metadata": {},
   "outputs": [
    {
     "name": "stderr",
     "output_type": "stream",
     "text": [
      "/Users/ruchirnamjoshi/projects/finance-rag-local/src/rag/lc_chain.py:84: LangChainDeprecationWarning: The class `Qdrant` was deprecated in LangChain 0.1.2 and will be removed in 0.5.0. Use :class:`~QdrantVectorStore` instead.\n",
      "  vs = QdrantVectorStore(client=client, collection_name=COLL, embeddings=emb)\n",
      "/Users/ruchirnamjoshi/projects/finance-rag-local/.venv/lib/python3.11/site-packages/tqdm/auto.py:21: TqdmWarning: IProgress not found. Please update jupyter and ipywidgets. See https://ipywidgets.readthedocs.io/en/stable/user_install.html\n",
      "  from .autonotebook import tqdm as notebook_tqdm\n",
      "/Users/ruchirnamjoshi/projects/finance-rag-local/src/rag/lc_chain.py:191: LangChainDeprecationWarning: `connection_string` was deprecated in LangChain 0.2.2 and will be removed in 1.0. Use connection instead.\n",
      "  return get_history(session_id)\n",
      "/Users/ruchirnamjoshi/projects/finance-rag-local/src/rag/lc_chain.py:135: LangChainDeprecationWarning: The method `BaseRetriever.get_relevant_documents` was deprecated in langchain-core 0.1.46 and will be removed in 1.0. Use :meth:`~invoke` instead.\n",
      "  docs = retriever.get_relevant_documents(q)\n"
     ]
    },
    {
     "name": "stdout",
     "output_type": "stream",
     "text": [
      "Based on the provided context, specifically from the \"Apple Inc. | Q3 2025 Form 10-Q\" section, we can determine that:\n",
      "\n",
      "For Apple's latest 10-Q MD&A (Management Discussion and Analysis), what drove revenue?\n",
      "\n",
      "The revenue was driven by various product categories, including:\n",
      "\n",
      "* iPhone: Net sales increased by 13% in the third quarter of 2025 compared to the same period in 2024 due to higher net sales of Pro models.\n",
      "* Mac: Net sales increased by 15% in the third quarter and first nine months of 2025 compared to the same periods in 2024 due to higher net sales of both laptops and desktops.\n",
      "* Services: Net sales increased by 13% in the three- and nine-month periods ended June 28, 2025, compared to the same periods in 2024.\n",
      "\n",
      "Note that the revenue growth was also influenced by various other factors, such as seasonal holiday demand and new product introductions.\n"
     ]
    }
   ],
   "source": [
    "from rag.lc_chain import with_memory\n",
    "chain = with_memory()\n",
    "\n",
    "resp = chain.invoke(\n",
    "    {\"question\": \"For Apple (AAPL) latest 10-Q MD&A, what drove revenue?\"},\n",
    "    config={\"configurable\": {\"session_id\": \"demo_mem\"}}\n",
    ")\n",
    "print(resp.content)\n",
    "\n",
    "\n",
    "\n"
   ]
  },
  {
   "cell_type": "code",
   "execution_count": 2,
   "id": "54491078",
   "metadata": {},
   "outputs": [
    {
     "name": "stdout",
     "output_type": "stream",
     "text": [
      "To plot revenue growth, we need data on revenue changes over time. From the provided context, here are some key points:\n",
      "\n",
      "* For the third quarter of fiscal 2024, total Digital Media ARR grew by $1.43 billion, or 9%, to $16.76 billion.\n",
      "* For the three months ended January 31, 2025:\n",
      "\t+ Life Sciences and Diagnostics Markets segment revenue increased 4% when compared to the same period last year.\n",
      "\t+ Agilent CrossLab segment revenue increased 1% when compared to the same period last year.\n",
      "\t+ Applied Markets segment revenue decreased 4% when compared to the same period last year.\n",
      "* For the six months ended April 30, 2025:\n",
      "\t+ Revenue increased significantly in the chemicals and advanced materials, food, environmental and forensics, and diagnostics and clinical markets.\n",
      "\t+ Revenue increased moderately in the pharmaceutical market.\n",
      "\t+ Revenue was flat in the academia and government market.\n",
      "\n",
      "Plotting revenue growth would require a time-series graph with revenue values on the y-axis and time (quarters or months) on the x-axis. The graph could show:\n",
      "\n",
      "* A steady increase in total Digital Media ARR over several quarters, with some fluctuations.\n",
      "* A 4% increase in Life Sciences and Diagnostics Markets segment revenue for the three months ended January 31, 2025.\n",
      "* A 1% increase in Agilent CrossLab segment revenue for the three months ended January 31, 2025.\n",
      "* Significant revenue growth in several markets (chemicals and advanced materials, food, environmental and forensics, and diagnostics and clinical) and moderate growth in others (pharmaceutical market) for the six months ended April 30, 2025.\n",
      "\n",
      "Keep in mind that this is a simplified interpretation of the provided text. To create an accurate plot, more detailed data would be necessary.\n"
     ]
    }
   ],
   "source": [
    "resp2 = chain.invoke(\n",
    "    {\"question\": \"Plot revenue growth\"},\n",
    "    config={\"configurable\": {\"session_id\": \"demo_mem\"}}\n",
    ")\n",
    "print(resp2.content)"
   ]
  },
  {
   "cell_type": "code",
   "execution_count": 2,
   "id": "5905d1a7",
   "metadata": {},
   "outputs": [
    {
     "name": "stdout",
     "output_type": "stream",
     "text": [
      "44 2164\n"
     ]
    }
   ],
   "source": [
    "from extract.tables_to_csv import extract_all\n",
    "files, csvs = extract_all(raw_dir=\"data/raw\", out_dir=\"data/csv\")\n",
    "print(files, csvs)"
   ]
  },
  {
   "cell_type": "code",
   "execution_count": 14,
   "id": "0fc499ec",
   "metadata": {},
   "outputs": [
    {
     "name": "stdout",
     "output_type": "stream",
     "text": [
      "0 0\n"
     ]
    }
   ],
   "source": [
    "print(files, csvs)"
   ]
  },
  {
   "cell_type": "code",
   "execution_count": 2,
   "id": "d96d59ac",
   "metadata": {},
   "outputs": [
    {
     "name": "stdout",
     "output_type": "stream",
     "text": [
      "\u001b[34mapi\u001b[m\u001b[m                docker-compose.yml pyproject.toml     requirements.txt\n",
      "\u001b[34mdata\u001b[m\u001b[m               \u001b[34mnotebooks\u001b[m\u001b[m          \u001b[34mqdrant_data\u001b[m\u001b[m        \u001b[34msrc\u001b[m\u001b[m\n"
     ]
    }
   ],
   "source": [
    "!ls"
   ]
  },
  {
   "cell_type": "code",
   "execution_count": 1,
   "id": "ee5dd0b4",
   "metadata": {},
   "outputs": [],
   "source": [
    "import os, pathlib, glob, json\n",
    "\n",
    "# move to project root if you're in notebooks/\n",
    "if pathlib.Path.cwd().name == \"notebooks\":\n",
    "    os.chdir(\"..\")\n",
    "\n",
    "\n"
   ]
  },
  {
   "cell_type": "code",
   "execution_count": 2,
   "id": "a21a4678",
   "metadata": {},
   "outputs": [
    {
     "name": "stdout",
     "output_type": "stream",
     "text": [
      "CHAT_DB_PATH: /Users/ruchirnamjoshi/projects/finance-rag-local/data/chat_history.sqlite3\n",
      "CSV_CATALOG_PATH: /Users/ruchirnamjoshi/projects/finance-rag-local/data/csv_clean/catalog.json\n"
     ]
    }
   ],
   "source": [
    "# make sure chat DB and CSV catalog paths exist\n",
    "pathlib.Path(\"data\").mkdir(parents=True, exist_ok=True)\n",
    "os.environ[\"CHAT_DB_PATH\"] = str(pathlib.Path(\"data/chat_history.sqlite3\").resolve())\n",
    "os.environ[\"CSV_CATALOG_PATH\"] = str(pathlib.Path(\"data/csv_clean/catalog.json\").resolve())\n",
    "\n",
    "print(\"CHAT_DB_PATH:\", os.environ[\"CHAT_DB_PATH\"])\n",
    "print(\"CSV_CATALOG_PATH:\", os.environ[\"CSV_CATALOG_PATH\"])"
   ]
  },
  {
   "cell_type": "code",
   "execution_count": 3,
   "id": "cafe7e41",
   "metadata": {},
   "outputs": [
    {
     "name": "stderr",
     "output_type": "stream",
     "text": [
      "/Users/ruchirnamjoshi/projects/finance-rag-local/src/rag/lc_chain.py:84: LangChainDeprecationWarning: The class `Qdrant` was deprecated in LangChain 0.1.2 and will be removed in 0.5.0. Use :class:`~QdrantVectorStore` instead.\n",
      "  vs = QdrantVectorStore(client=client, collection_name=COLL, embeddings=emb)\n",
      "/Users/ruchirnamjoshi/projects/finance-rag-local/.venv/lib/python3.11/site-packages/tqdm/auto.py:21: TqdmWarning: IProgress not found. Please update jupyter and ipywidgets. See https://ipywidgets.readthedocs.io/en/stable/user_install.html\n",
      "  from .autonotebook import tqdm as notebook_tqdm\n"
     ]
    }
   ],
   "source": [
    "from src.app.super_agent import build_super_agent\n",
    "from src.databot.agent import get_history  # same SQL history helper you have\n",
    "\n",
    "\n"
   ]
  },
  {
   "cell_type": "code",
   "execution_count": 4,
   "id": "1e1db504",
   "metadata": {},
   "outputs": [],
   "source": [
    "sup = build_super_agent(provider=\"ollama\")"
   ]
  },
  {
   "cell_type": "code",
   "execution_count": 5,
   "id": "7fa595aa",
   "metadata": {},
   "outputs": [],
   "source": [
    "def ask(q, sid=\"super1\"):\n",
    "    hist = get_history(sid)\n",
    "    out = sup.invoke({\n",
    "        \"input\": q,\n",
    "        \"chat_history\": hist.messages,   # list[BaseMessage]\n",
    "        # no agent_scratchpad needed; the agent manages it as a string\n",
    "    })\n",
    "    hist.add_user_message(q)\n",
    "    hist.add_ai_message(out[\"output\"])\n",
    "    print(out[\"output\"])\n",
    "\n"
   ]
  },
  {
   "cell_type": "code",
   "execution_count": 6,
   "id": "4ab12355",
   "metadata": {},
   "outputs": [
    {
     "name": "stderr",
     "output_type": "stream",
     "text": [
      "/var/folders/48/5m58qpqx65s31d8vcx2418dc0000gn/T/ipykernel_50651/139807134.py:2: LangChainDeprecationWarning: `connection_string` was deprecated in LangChain 0.2.2 and will be removed in 1.0. Use connection instead.\n",
      "  hist = get_history(sid)\n"
     ]
    },
    {
     "name": "stdout",
     "output_type": "stream",
     "text": [
      "\n",
      "\n",
      "\u001b[1m> Entering new AgentExecutor chain...\u001b[0m\n",
      "\u001b[32;1m\u001b[1;3mThought: To answer this question, I need to access the MD&A section of Apple's latest 10-Q filing and extract relevant information about revenue drivers.\n",
      "Action: rag_query\n",
      "Action Input: {\"question\": \"What are the revenue drivers for Apple (AAPL) in their latest 10-Q MD&A?\", \"session_id\": \"default\"}\u001b[0m"
     ]
    },
    {
     "name": "stderr",
     "output_type": "stream",
     "text": [
      "/Users/ruchirnamjoshi/projects/finance-rag-local/src/rag/lc_chain.py:135: LangChainDeprecationWarning: The method `BaseRetriever.get_relevant_documents` was deprecated in langchain-core 0.1.46 and will be removed in 1.0. Use :meth:`~invoke` instead.\n",
      "  docs = retriever.get_relevant_documents(q)\n"
     ]
    },
    {
     "name": "stdout",
     "output_type": "stream",
     "text": [
      "\u001b[36;1m\u001b[1;3mBased on the provided context from Apple Inc.'s Q2 2025 Form 10-Q, the revenue drivers for Apple (AAPL) can be identified as follows:\n",
      "\n",
      "1. **Services**: The Services segment saw an increase in gross margin percentage during the second quarter and first six months of 2025 compared to the same periods in 2024. This was driven by higher Services net sales and a different mix of services, partially offset by higher Services costs and weakness in foreign currencies relative to the U.S. dollar.\n",
      "\n",
      "2. **iPhone**: The Americas and Europe segments saw an increase in net sales during the first quarter of 2025 compared to the same quarter in 2024 due primarily to higher net sales of iPhone.\n",
      "\n",
      "3. **Product Mix**: Apple's gross margin increased during the second quarter and first six months of 2025 compared to the same periods in 2024, partly due to a different mix of products.\n",
      "\n",
      "Note that while these are revenue drivers, they do not necessarily represent the only factors contributing to Apple's overall revenue growth.\u001b[0m\n",
      "\u001b[32;1m\u001b[1;3m\u001b[0m\n",
      "\n",
      "\u001b[1m> Finished chain.\u001b[0m\n",
      "Based on the provided context from Apple Inc.'s Q2 2025 Form 10-Q, the revenue drivers for Apple (AAPL) can be identified as follows:\n",
      "\n",
      "1. **Services**: The Services segment saw an increase in gross margin percentage during the second quarter and first six months of 2025 compared to the same periods in 2024. This was driven by higher Services net sales and a different mix of services, partially offset by higher Services costs and weakness in foreign currencies relative to the U.S. dollar.\n",
      "\n",
      "2. **iPhone**: The Americas and Europe segments saw an increase in net sales during the first quarter of 2025 compared to the same quarter in 2024 due primarily to higher net sales of iPhone.\n",
      "\n",
      "3. **Product Mix**: Apple's gross margin increased during the second quarter and first six months of 2025 compared to the same periods in 2024, partly due to a different mix of products.\n",
      "\n",
      "Note that while these are revenue drivers, they do not necessarily represent the only factors contributing to Apple's overall revenue growth.\n"
     ]
    }
   ],
   "source": [
    "\n",
    "\n",
    "\n",
    "# Filing Q&A (routes to rag_query tool)\n",
    "ask(\"For Apple (AAPL) latest 10-Q MD&A, what were the revenue drivers?\")\n",
    "\n",
    "\n"
   ]
  },
  {
   "cell_type": "code",
   "execution_count": 6,
   "id": "911d7ad6",
   "metadata": {},
   "outputs": [],
   "source": [
    "import importlib, src.databot.tools as tools\n"
   ]
  },
  {
   "cell_type": "code",
   "execution_count": null,
   "id": "5ef54e05",
   "metadata": {},
   "outputs": [
    {
     "name": "stderr",
     "output_type": "stream",
     "text": [
      "/var/folders/48/5m58qpqx65s31d8vcx2418dc0000gn/T/ipykernel_67704/139807134.py:2: LangChainDeprecationWarning: `connection_string` was deprecated in LangChain 0.2.2 and will be removed in 1.0. Use connection instead.\n",
      "  hist = get_history(sid)\n"
     ]
    },
    {
     "name": "stdout",
     "output_type": "stream",
     "text": [
      "\n",
      "\n",
      "\u001b[1m> Entering new AgentExecutor chain...\u001b[0m\n",
      "\u001b[32;1m\u001b[1;3mThought: I need to select the best CSV and then plot.\n",
      "Action: select_csv\n",
      "Action Input: { \"ticker\":\"AAPL\", \"table_type\":\"segment_revenue\", \"year\":2025 }\u001b[0m\u001b[33;1m\u001b[1;3m{\"selected\": \"data/csv/AAPL/2025_Q1_10-Q_segment_revenue_18.csv\"}\u001b[0m\n",
      "\u001b[32;1m\u001b[1;3m\u001b[0m\n",
      "\n",
      "\u001b[1m> Finished chain.\u001b[0m\n",
      "{\"selected\": \"data/csv/AAPL/2025_Q1_10-Q_segment_revenue_18.csv\"}\n"
     ]
    }
   ],
   "source": [
    "\n",
    "# Data/plotting (CSV tools)\n",
    "ask(\"Select Apple product revenue table and plot iPhone's revenue as a bar chart.\")\n"
   ]
  },
  {
   "cell_type": "code",
   "execution_count": 1,
   "id": "de23f618",
   "metadata": {},
   "outputs": [],
   "source": [
    "import pandas as pd\n",
    "import os\n",
    "df = pd.read_csv(\"/Users/ruchirnamjoshi/projects/finance-rag-local/data/csv_clean/AAPL/product_revenue.csv\")"
   ]
  },
  {
   "cell_type": "code",
   "execution_count": null,
   "id": "55d3f14c",
   "metadata": {},
   "outputs": [
    {
     "name": "stdout",
     "output_type": "stream",
     "text": [
      "dtypes:\n",
      " Quarter       object\n",
      "iPhone       float64\n",
      "iPad         float64\n",
      "Mac          float64\n",
      "Services     float64\n",
      "Wearables    float64\n",
      "dtype: object\n",
      "\n",
      "first 5 rows:\n",
      "    Quarter  iPhone\n",
      "0  Qq 2020   42.62\n",
      "1  Qq 2020   57.31\n",
      "2  Qq 2020   68.14\n",
      "3  Qq 2020   64.08\n",
      "4  Qq 2021   76.90\n",
      "5  Qq 2021   44.37\n",
      "6  Qq 2021   52.27\n",
      "7  Qq 2021   74.23\n",
      "8  Qq 2022   69.03\n",
      "9  Qq 2022   81.18\n",
      "\n",
      "Non-null iPhone: 20 out of 20\n"
     ]
    },
    {
     "data": {
      "image/png": "[encoded data removed]",
      "text/plain": [
       "<Figure size 640x480 with 1 Axes>"
      ]
     },
     "metadata": {},
     "output_type": "display_data"
    }
   ],
   "source": [
    "\n",
    "import matplotlib.pyplot as plt\n",
    "# ensure numeric (if anything arrived as strings)\n",
    "os.makedirs(\"data/plots\", exist_ok=True)\n",
    "out_path = os.path.join(\"data/plots\", f\"plot_1.png\")\n",
    "import matplotlib.pyplot as plt; import pandas as pd; df = pd.read_csv('/Users/ruchirnamjoshi/projects/finance-rag-local/data/csv_clean/AAPL/product_revenue.csv'); df.plot(kind='bar', x='Quarter', y=['iPhone']); plt.xlabel('Quarter'); plt.ylabel('Revenue (Billions)')\n",
    "plt.savefig(out_path, format=\"png\")\n",
    "\n",
    "\n"
   ]
  },
  {
   "cell_type": "code",
   "execution_count": 7,
   "id": "c0fbc16e",
   "metadata": {},
   "outputs": [
    {
     "name": "stdout",
     "output_type": "stream",
     "text": [
      "Wrote 2164 entries -> /Users/ruchirnamjoshi/projects/finance-rag-local/data/csv_clean/catalog.json\n"
     ]
    }
   ],
   "source": [
    "import os, json, pathlib, re\n",
    "import pandas as pd\n",
    "\n",
    "ROOT = pathlib.Path(\".\").resolve()\n",
    "SEARCH_DIRS = [ROOT/\"data/csv_clean\", ROOT/\"data/csv\"]  # scan both\n",
    "OUT = ROOT/\"data/csv_clean\"; OUT.mkdir(parents=True, exist_ok=True)\n",
    "CAT = OUT/\"catalog.json\"\n",
    "\n",
    "items = []\n",
    "for base in SEARCH_DIRS:\n",
    "    if not base.exists(): continue\n",
    "    for p in base.rglob(\"*.csv\"):\n",
    "        try:\n",
    "            df = pd.read_csv(p, nrows=5)\n",
    "            cols = list(df.columns)\n",
    "        except Exception:\n",
    "            continue\n",
    "        parts = p.parts\n",
    "        # infer ticker from parent folder (AAPL/) if present\n",
    "        ticker = parts[-2] if len(parts)>=2 and re.fullmatch(r\"[A-Z.]{1,6}\", parts[-2]) else None\n",
    "        # infer date/form/type from filename like 2025_Q1_10-Q_segment_revenue_2.csv\n",
    "        m = re.match(r\"(?P<period>\\d{4}(?:_Q[1-4])?)_(?P<form>10-[QK])_(?P<table>[A-Za-z_]+)_\\d+\\.csv\", p.name)\n",
    "        period = m.group(\"period\") if m else None\n",
    "        form   = m.group(\"form\") if m else None\n",
    "        table  = m.group(\"table\") if m else \"other\"\n",
    "\n",
    "        items.append({\n",
    "            \"path\": str(p),\n",
    "            \"ticker\": ticker,\n",
    "            \"cik\": None,\n",
    "            \"form\": form,\n",
    "            \"date\": None,\n",
    "            \"period\": period,\n",
    "            \"table_type\": table,\n",
    "            \"label_col\": cols[0] if cols else None,\n",
    "            \"numeric_cols\": cols[1:],\n",
    "            \"columns\": cols,\n",
    "            \"source_html\": None,\n",
    "        })\n",
    "\n",
    "CAT.write_text(json.dumps(items, indent=2), encoding=\"utf-8\")\n",
    "print(f\"Wrote {len(items)} entries -> {CAT}\")"
   ]
  },
  {
   "cell_type": "code",
   "execution_count": 10,
   "id": "7e8b2715",
   "metadata": {},
   "outputs": [
    {
     "name": "stdout",
     "output_type": "stream",
     "text": [
      "   Quarter  iPhone   iPad    Mac  Services  Wearables\n",
      "0  Qq 2020   42.62  14.96   8.93     18.98       9.22\n",
      "1  Qq 2020   57.31  14.95  10.38     20.99       7.39\n",
      "2  Qq 2020   68.14   9.36   8.31     18.01       8.21\n",
      "3  Qq 2020   64.08   5.68   7.01     20.89       7.14\n",
      "4  Qq 2021   76.90   5.83  12.84     23.88       9.08\n",
      "5  Qq 2021   44.37   5.29  14.73     24.94      11.18\n",
      "6  Qq 2021   52.27   5.17   7.48     19.65      11.71\n",
      "7  Qq 2021   74.23  12.43  14.05     22.51      11.60\n",
      "Quarter       object\n",
      "iPhone       float64\n",
      "iPad         float64\n",
      "Mac          float64\n",
      "Services     float64\n",
      "Wearables    float64\n",
      "dtype: object\n"
     ]
    },
    {
     "name": "stderr",
     "output_type": "stream",
     "text": [
      "/var/folders/48/5m58qpqx65s31d8vcx2418dc0000gn/T/ipykernel_67704/3973345253.py:6: FutureWarning: 'Q' is deprecated and will be removed in a future version, please use 'QE' instead.\n",
      "  quarters = pd.date_range(\"2020-01-01\", periods=20, freq=\"Q\")\n",
      "/var/folders/48/5m58qpqx65s31d8vcx2418dc0000gn/T/ipykernel_67704/3973345253.py:28: UserWarning: FigureCanvasAgg is non-interactive, and thus cannot be shown\n",
      "  plt.show()\n"
     ]
    }
   ],
   "source": [
    "import pandas as pd\n",
    "import numpy as np\n",
    "from pathlib import Path\n",
    "\n",
    "# Generate dummy Apple product revenue data\n",
    "quarters = pd.date_range(\"2020-01-01\", periods=20, freq=\"Q\")\n",
    "data = {\n",
    "    \"Quarter\": [q.strftime(\"Q%q %Y\") for q in quarters],\n",
    "    \"iPhone\": np.random.uniform(40, 90, size=len(quarters)).round(2),\n",
    "    \"iPad\": np.random.uniform(5, 15, size=len(quarters)).round(2),\n",
    "    \"Mac\": np.random.uniform(7, 15, size=len(quarters)).round(2),\n",
    "    \"Services\": np.random.uniform(15, 25, size=len(quarters)).round(2),\n",
    "    \"Wearables\": np.random.uniform(5, 12, size=len(quarters)).round(2)\n",
    "}\n",
    "\n",
    "df = pd.DataFrame(data)\n",
    "\n",
    "\n",
    "\n",
    "# Basic sanity check\n",
    "print(df.head(8))\n",
    "print(df.dtypes)\n",
    "\n",
    "# Plot iPhone vs iPad over time\n",
    "ax = df.plot(x=\"Quarter\", y=[\"iPhone\",\"iPad\"], kind=\"bar\", rot=60, figsize=(10,4))\n",
    "ax.set_title(\"Apple Product Revenue (from GitHub dataset)\")\n",
    "ax.set_ylabel(\"Revenue (billions USD)\")\n",
    "plt.show()"
   ]
  },
  {
   "cell_type": "code",
   "execution_count": 11,
   "id": "bab47bd1",
   "metadata": {},
   "outputs": [
    {
     "name": "stdout",
     "output_type": "stream",
     "text": [
      "Saved dummy CSV to data/csv_clean/AAPL/2020-2024_product_revenue_dummy.csv\n"
     ]
    }
   ],
   "source": [
    "# Save to your csv_clean folder\n",
    "out_dir = Path(\"data/csv_clean/AAPL\")\n",
    "out_dir.mkdir(parents=True, exist_ok=True)\n",
    "csv_path = out_dir / \"2020-2024_product_revenue_dummy.csv\"\n",
    "df.to_csv(csv_path, index=False)\n",
    "\n",
    "print(f\"Saved dummy CSV to {csv_path}\")"
   ]
  },
  {
   "cell_type": "code",
   "execution_count": 14,
   "id": "0bbc80c7",
   "metadata": {},
   "outputs": [
    {
     "name": "stdout",
     "output_type": "stream",
     "text": [
      "✅ Catalog updated: data/csv_clean/catalog.json\n"
     ]
    }
   ],
   "source": [
    "catalog_path = Path(\"data/csv_clean/catalog.json\")\n",
    "if catalog_path.exists():\n",
    "    with open(catalog_path, \"r\") as f:\n",
    "        catalog = json.load(f)\n",
    "else:\n",
    "    catalog = {\"items\": []}\n",
    "\n",
    "catalog.append({\n",
    "    \"ticker\": \"AAPL\",\n",
    "    \"path\": str(csv_path),\n",
    "    \"table_type\": \"product_revenue\",\n",
    "    \"form\": \"10-K\",\n",
    "    \"date\": \"2024-12-31\",\n",
    "    \"columns\": list(df.columns),\n",
    "    \"label_col\": \"Quarter\",\n",
    "    \"numeric_cols\": [c for c in df.columns if c != \"Quarter\"],\n",
    "    \"dtypes\": {c: str(dt) for c, dt in df.dtypes.items()}\n",
    "})\n",
    "\n",
    "with open(catalog_path, \"w\") as f:\n",
    "    json.dump(catalog, f, indent=2)\n",
    "\n",
    "print(f\"✅ Catalog updated: {catalog_path}\")"
   ]
  },
  {
   "cell_type": "code",
   "execution_count": 19,
   "id": "d486f7c6",
   "metadata": {},
   "outputs": [
    {
     "name": "stderr",
     "output_type": "stream",
     "text": [
      "/var/folders/48/5m58qpqx65s31d8vcx2418dc0000gn/T/ipykernel_67704/3431743827.py:4: UserWarning: FigureCanvasAgg is non-interactive, and thus cannot be shown\n",
      "  plt.show()\n"
     ]
    }
   ],
   "source": [
    "plt.plot()\n",
    "df.plot(x='Quarter', y=['iPhone','iPad'], kind='bar')\n",
    "plt.title('AAPL Product Revenue by Quarter')\n",
    "plt.show()"
   ]
  },
  {
   "cell_type": "code",
   "execution_count": null,
   "id": "be160a00",
   "metadata": {},
   "outputs": [],
   "source": []
  }
 ],
 "metadata": {
  "kernelspec": {
   "display_name": ".venv",
   "language": "python",
   "name": "python3"
  },
  "language_info": {
   "codemirror_mode": {
    "name": "ipython",
    "version": 3
   },
   "file_extension": ".py",
   "mimetype": "text/x-python",
   "name": "python",
   "nbconvert_exporter": "python",
   "pygments_lexer": "ipython3",
   "version": "3.11.13"
  }
 },
 "nbformat": 4,
 "nbformat_minor": 5
}
